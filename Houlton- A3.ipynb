{
 "cells": [
  {
   "cell_type": "markdown",
   "metadata": {},
   "source": [
    "## A3 Classification"
   ]
  },
  {
   "cell_type": "markdown",
   "metadata": {},
   "source": [
    "*Sarah Houlton*"
   ]
  },
  {
   "cell_type": "markdown",
   "metadata": {},
   "source": [
    "In this assignment we define a new class named `NeuralNetworkClassifier`. It extends the given class `NeuralNetwork` and redefines some methods to do classification."
   ]
  },
  {
   "cell_type": "markdown",
   "metadata": {},
   "source": [
    "To do classification, we will redefine the methods:\n",
    "```\n",
    "__init__\n",
    "__repr__\n",
    "_standardizeT\n",
    "_unstandardizeT\n",
    "_forward_pass\n",
    "_objectiveF\n",
    "_objective_to_actual\n",
    "train\n",
    "use\n",
    "```"
   ]
  },
  {
   "cell_type": "markdown",
   "metadata": {},
   "source": [
    "## Definition of `NeuralNetworkClassifier`"
   ]
  },
  {
   "cell_type": "code",
   "execution_count": 1,
   "metadata": {},
   "outputs": [],
   "source": [
    "import numpy as np\n",
    "import matplotlib.pyplot as plt\n",
    "import copy\n",
    "import sys\n",
    "\n",
    "import torch\n",
    "import mlutilities as ml  # for ml.draw\n",
    "import optimizers as opt  # for opt.sgd, opt.adam, and opt.scg\n",
    "\n",
    "import neuralnetworks as nn\n",
    "\n",
    "# Extend the nn.NeuralNetwork class to reuse much of its implementation\n",
    "# Only those methods that must be altered to do classification are defined in NeuralNetworkClassifier\n",
    "\n",
    "class NeuralNetworkClassifier(nn.NeuralNetwork):\n",
    "\n",
    "    # Constructor\n",
    "    def __init__(self, n_inputs, n_hiddens_list, classes, use_torch=False):\n",
    "\n",
    "        # Force n_hidens_list to be a list\n",
    "        \n",
    "        if not isinstance(n_hiddens_list, list):\n",
    "            raise Exception('NeuralNetworkClassifier: n_hiddens_list must be a list.')\n",
    " \n",
    "        # Call the constructor for NeuralNetwork, passing in the number of unique class names (ints)\n",
    "        # as the number of outputs\n",
    "        \n",
    "        super().__init__(n_inputs, n_hiddens_list, len(classes), use_torch)\n",
    "\n",
    "        # Store as member variables other things needed by instances of this class.\n",
    "        \n",
    "        self.classes = np.array(classes) # to allow argmax in use()\n",
    "        \n",
    "        if use_torch:\n",
    "            self.log = torch.log\n",
    "            self.exp = torch.exp\n",
    "        else:\n",
    "            self.log = np.log\n",
    "            self.exp = np.exp\n",
    "    \n",
    "\n",
    "    def __repr__(self):\n",
    "        str = f'{type(self).__name__}({self.n_inputs}, {self.n_hiddens_list}, {self.n_outputs}, use_torch={self.use_torch})'\n",
    "        if self.trained:\n",
    "            str += f'\\n   Network was trained for {self.n_epochs} epochs'\n",
    "            str += f' that took {self.training_time:.4f} seconds. Final objective value is {self.error_trace[-1]:.3f}'\n",
    "        else:\n",
    "            str += '  Network is not trained.'\n",
    "        return str\n",
    "        \n",
    "    def _standardizeT (self, T):\n",
    "        return T\n",
    "    \n",
    "    def _unstandardizeT (self, T):\n",
    "        return T\n",
    "    \n",
    "    \n",
    "    def _forward_pass(self, X):\n",
    "        # Assume weights already unpacked\n",
    "        Z_prev = X  # output of previous layer\n",
    "        Z = [Z_prev]\n",
    "        for i in range(self.n_hidden_layers):\n",
    "            V = self.Vs[i]\n",
    "            Z_prev = self.tanh(Z_prev @ V[1:, :] + V[0:1, :])\n",
    "            Z.append(Z_prev)\n",
    "        Y = Z_prev @ self.W[1:, :] + self.W[0:1, :]\n",
    "        \n",
    "        fs = np.exp(Y)  # N x K\n",
    "        denom = np.sum(fs, axis=1).reshape((-1,1))\n",
    "        Y = fs / denom\n",
    "        \n",
    "        return Y, Z\n",
    "        \n",
    "    def _objectiveF(self, w, X, T):             \n",
    "        self._unpack(w)\n",
    "        Y, _ = self._forward_pass(X)\n",
    "        return -self.mean(np.log(Y) * T)\n",
    "    \n",
    "    def _objective_to_actual(self, neg_mean_log_likelihood):\n",
    "        return self.exp(- neg_mean_log_likelihood)\n",
    "    \n",
    "                \n",
    "    def train(self, X, T, n_epochs, method='scg', verbose=False, save_weights_history=False, learning_rate=0.001,\n",
    "              momentum_rate=0.0): # only for sgd and adam          \n",
    "\n",
    "        if X.shape[1] != self.n_inputs:\n",
    "            raise Exception(f'train: number of columns in X ({X.shape[1]}) not equal to number of network inputs ({self.n_inputs})')\n",
    "        \n",
    "        if self.use_torch:\n",
    "            X = torch.tensor(X, dtype=torch.float)  # 32 bit\n",
    "            T = torch.tensor(T, dtype=torch.float)\n",
    "        \n",
    "        \n",
    "        if T.ndim == 1:\n",
    "            T = T.reshape((-1,1)) \n",
    "        TI = (T == np.unique(T)).astype(int)\n",
    "        print(TI[:10, :])\n",
    "        \n",
    "        self._setup_standardize(X, TI)\n",
    "        X = self._standardizeX(X)\n",
    "        TI = self._standardizeT(TI)\n",
    "        \n",
    "        try:\n",
    "            algo = [opt.sgd, opt.adam, opt.scg][['sgd', 'adam', 'scg'].index(method)]\n",
    "        except:\n",
    "            raise Exception(\"train: method={method} not one of 'scg', 'sgd' or 'adam'\")            \n",
    "\n",
    "        result = algo(self._pack(self.Vs, self.W), self._objectiveF, [X, TI], n_epochs, self._gradientF,  # not used if scg\n",
    "                      eval_f=self._objective_to_actual, learning_rate=learning_rate, momentum_rate=momentum_rate, verbose=verbose,\n",
    "                      use_torch=self.use_torch, save_wtrace=save_weights_history)\n",
    "\n",
    "        self._unpack(result['w'])\n",
    "        self.reason = result['reason']\n",
    "        self.error_trace = result['ftrace'] # * self.Tstds # to _unstandardize the MSEs\n",
    "        self.n_epochs = len(self.error_trace) - 1\n",
    "        self.trained = True\n",
    "        self.weight_history = result['wtrace'] if save_weights_history else None\n",
    "        self.training_time = result['time']\n",
    "        return self\n",
    "        \n",
    "    def use(self, X, all_outputs=False):        \n",
    "        if self.use_torch:\n",
    "            if not isinstance(X, torch.Tensor):\n",
    "                X = torch.tensor(X, dtype=torch.float)\n",
    "        X = self._standardizeX(X)\n",
    "        Y, Z = self._forward_pass(X)\n",
    "        Y = self._unstandardizeT(Y)\n",
    "        if self.use_torch:\n",
    "            Y = Y.detach().cpu().numpy()\n",
    "            Z = [Zi.detach().cpu().numpy() for Zi in Z]\n",
    "        max_indices = np.argmax(Y, axis = 1)\n",
    "        Y_classes = self.classes[max_indices]\n",
    "        Y_classes = Y_classes.reshape(-1, 1)\n",
    "        return (Y_classes, Y, Z[1:]) if all_outputs else (Y_classes, Y)         \n",
    "        "
   ]
  },
  {
   "cell_type": "markdown",
   "metadata": {},
   "source": [
    "## Example Tests\n",
    "\n",
    "Here are some tests of individual parts of the code to verify each piece."
   ]
  },
  {
   "cell_type": "code",
   "execution_count": 2,
   "metadata": {},
   "outputs": [],
   "source": [
    "import numpy as np\n",
    "import matplotlib.pyplot as plt\n",
    "%matplotlib inline\n",
    "\n",
    "import neuralnetworks as nn"
   ]
  },
  {
   "cell_type": "markdown",
   "metadata": {},
   "source": [
    "Here we create some toy data to run the neural network on.  Each sample has two inputs, randomly chosen from integers 0, 1, and 2.  Target class is 1 if the two input samples are equal, 0 if they are not."
   ]
  },
  {
   "cell_type": "code",
   "execution_count": 3,
   "metadata": {},
   "outputs": [
    {
     "name": "stdout",
     "output_type": "stream",
     "text": [
      "x = [2 0], t = [0]\n",
      "x = [2 2], t = [1]\n",
      "x = [0 0], t = [1]\n",
      "x = [2 1], t = [0]\n",
      "x = [2 2], t = [1]\n",
      "x = [2 2], t = [1]\n",
      "x = [0 2], t = [0]\n",
      "x = [1 0], t = [0]\n",
      "x = [1 1], t = [1]\n",
      "x = [1 1], t = [1]\n",
      "x = [0 0], t = [1]\n",
      "x = [1 1], t = [1]\n",
      "x = [0 0], t = [1]\n",
      "x = [0 2], t = [0]\n",
      "x = [2 2], t = [1]\n",
      "x = [1 2], t = [0]\n",
      "x = [1 1], t = [1]\n",
      "x = [2 1], t = [0]\n",
      "x = [2 2], t = [1]\n",
      "x = [0 2], t = [0]\n"
     ]
    }
   ],
   "source": [
    "np.random.seed(42)  # only to help you compare your output to mine.  Do not use otherwise.\n",
    "\n",
    "n_samples = 20\n",
    "X = np.random.choice(3, (n_samples, 2))\n",
    "T = (X[:, 0:1] == X[:, 1:2]).astype(int)  # where the two inputs are equal\n",
    "classes = [0, 1]\n",
    "\n",
    "for x, t in zip(X, T):\n",
    "    print(f'x = {x}, t = {t}')"
   ]
  },
  {
   "cell_type": "code",
   "execution_count": 4,
   "metadata": {},
   "outputs": [
    {
     "name": "stdout",
     "output_type": "stream",
     "text": [
      "8 not equal, 12 equal\n"
     ]
    }
   ],
   "source": [
    "print(f'{np.sum(T==0)} not equal, {np.sum(T==1)} equal')"
   ]
  },
  {
   "cell_type": "code",
   "execution_count": 5,
   "metadata": {},
   "outputs": [
    {
     "data": {
      "text/plain": [
       "NeuralNetworkClassifier(2, [10, 10], 2, use_torch=False)  Network is not trained."
      ]
     },
     "execution_count": 5,
     "metadata": {},
     "output_type": "execute_result"
    }
   ],
   "source": [
    "np.random.seed(42)  # only to help you compare your output to mine.  Do not use otherwise.\n",
    "\n",
    "nnet_new = NeuralNetworkClassifier(2, [10, 10], [0, 1])\n",
    "nnet_new"
   ]
  },
  {
   "cell_type": "markdown",
   "metadata": {},
   "source": [
    "We will not be standardizing targets T for this network, so we must redefine the two relevant functions so they just return their argument."
   ]
  },
  {
   "cell_type": "code",
   "execution_count": 6,
   "metadata": {},
   "outputs": [
    {
     "data": {
      "text/plain": [
       "array([[0],\n",
       "       [1],\n",
       "       [1],\n",
       "       [0],\n",
       "       [1],\n",
       "       [1],\n",
       "       [0],\n",
       "       [0],\n",
       "       [1],\n",
       "       [1],\n",
       "       [1],\n",
       "       [1],\n",
       "       [1],\n",
       "       [0],\n",
       "       [1],\n",
       "       [0],\n",
       "       [1],\n",
       "       [0],\n",
       "       [1],\n",
       "       [0]])"
      ]
     },
     "execution_count": 6,
     "metadata": {},
     "output_type": "execute_result"
    }
   ],
   "source": [
    "nnet_new._standardizeT(T)"
   ]
  },
  {
   "cell_type": "code",
   "execution_count": 7,
   "metadata": {},
   "outputs": [
    {
     "data": {
      "text/plain": [
       "array([[0],\n",
       "       [1],\n",
       "       [1],\n",
       "       [0],\n",
       "       [1],\n",
       "       [1],\n",
       "       [0],\n",
       "       [0],\n",
       "       [1],\n",
       "       [1],\n",
       "       [1],\n",
       "       [1],\n",
       "       [1],\n",
       "       [0],\n",
       "       [1],\n",
       "       [0],\n",
       "       [1],\n",
       "       [0],\n",
       "       [1],\n",
       "       [0]])"
      ]
     },
     "execution_count": 7,
     "metadata": {},
     "output_type": "execute_result"
    }
   ],
   "source": [
    "nnet_new._unstandardizeT(T)"
   ]
  },
  {
   "cell_type": "markdown",
   "metadata": {},
   "source": [
    "The standardization functions from the parent class will be available to us."
   ]
  },
  {
   "cell_type": "code",
   "execution_count": 8,
   "metadata": {},
   "outputs": [
    {
     "data": {
      "text/plain": [
       "array([[ 1.08347268, -1.47709789],\n",
       "       [ 1.08347268,  0.98473193],\n",
       "       [-1.32424438, -1.47709789],\n",
       "       [ 1.08347268, -0.24618298],\n",
       "       [ 1.08347268,  0.98473193],\n",
       "       [ 1.08347268,  0.98473193],\n",
       "       [-1.32424438,  0.98473193],\n",
       "       [-0.12038585, -1.47709789],\n",
       "       [-0.12038585, -0.24618298],\n",
       "       [-0.12038585, -0.24618298],\n",
       "       [-1.32424438, -1.47709789],\n",
       "       [-0.12038585, -0.24618298],\n",
       "       [-1.32424438, -1.47709789],\n",
       "       [-1.32424438,  0.98473193],\n",
       "       [ 1.08347268,  0.98473193],\n",
       "       [-0.12038585,  0.98473193],\n",
       "       [-0.12038585, -0.24618298],\n",
       "       [ 1.08347268, -0.24618298],\n",
       "       [ 1.08347268,  0.98473193],\n",
       "       [-1.32424438,  0.98473193]])"
      ]
     },
     "execution_count": 8,
     "metadata": {},
     "output_type": "execute_result"
    }
   ],
   "source": [
    "nnet_new._setup_standardize(X, T)\n",
    "Xst = nnet_new._standardizeX(X)\n",
    "Xst"
   ]
  },
  {
   "cell_type": "code",
   "execution_count": 9,
   "metadata": {},
   "outputs": [
    {
     "data": {
      "text/plain": [
       "array([[0.55163905, 0.44836095],\n",
       "       [0.52855705, 0.47144295],\n",
       "       [0.59590952, 0.40409048],\n",
       "       [0.5358871 , 0.4641129 ],\n",
       "       [0.52855705, 0.47144295],\n",
       "       [0.52855705, 0.47144295],\n",
       "       [0.59746461, 0.40253539],\n",
       "       [0.57163885, 0.42836115],\n",
       "       [0.56395347, 0.43604653],\n",
       "       [0.56395347, 0.43604653],\n",
       "       [0.59590952, 0.40409048],\n",
       "       [0.56395347, 0.43604653],\n",
       "       [0.59590952, 0.40409048],\n",
       "       [0.59746461, 0.40253539],\n",
       "       [0.52855705, 0.47144295],\n",
       "       [0.56007003, 0.43992997],\n",
       "       [0.56395347, 0.43604653],\n",
       "       [0.5358871 , 0.4641129 ],\n",
       "       [0.52855705, 0.47144295],\n",
       "       [0.59746461, 0.40253539]])"
      ]
     },
     "execution_count": 9,
     "metadata": {},
     "output_type": "execute_result"
    }
   ],
   "source": [
    "Y, Z = nnet_new._forward_pass(Xst)\n",
    "Y"
   ]
  },
  {
   "cell_type": "code",
   "execution_count": 10,
   "metadata": {
    "scrolled": true
   },
   "outputs": [
    {
     "data": {
      "text/plain": [
       "0.3525328777771416"
      ]
     },
     "execution_count": 10,
     "metadata": {},
     "output_type": "execute_result"
    }
   ],
   "source": [
    "w = nnet_new._pack(nnet_new.Vs, nnet_new.W)\n",
    "\n",
    "T_indicator_vars = np.hstack((1 - T, T))  # this only works for this particular two-class toy data\n",
    "\n",
    "nnet_new._objectiveF(w, X, T_indicator_vars)"
   ]
  },
  {
   "cell_type": "markdown",
   "metadata": {},
   "source": [
    "Now, for the workhorses, the functions the user of your class will use."
   ]
  },
  {
   "cell_type": "code",
   "execution_count": 11,
   "metadata": {},
   "outputs": [
    {
     "name": "stdout",
     "output_type": "stream",
     "text": [
      "[[1 0]\n",
      " [0 1]\n",
      " [0 1]\n",
      " [1 0]\n",
      " [0 1]\n",
      " [0 1]\n",
      " [1 0]\n",
      " [1 0]\n",
      " [0 1]\n",
      " [0 1]]\n"
     ]
    },
    {
     "data": {
      "text/plain": [
       "NeuralNetworkClassifier(2, [10, 10], 2, use_torch=False)\n",
       "   Network was trained for 66 epochs that took 0.0908 seconds. Final objective value is 1.000"
      ]
     },
     "execution_count": 11,
     "metadata": {},
     "output_type": "execute_result"
    }
   ],
   "source": [
    "nnet_new.train(X, T, 100)"
   ]
  },
  {
   "cell_type": "code",
   "execution_count": 12,
   "metadata": {},
   "outputs": [
    {
     "data": {
      "text/plain": [
       "((20, 1), (20, 2))"
      ]
     },
     "execution_count": 12,
     "metadata": {},
     "output_type": "execute_result"
    }
   ],
   "source": [
    "Y_classes, Y = nnet_new.use(X)\n",
    "Y_classes.shape, Y.shape"
   ]
  },
  {
   "cell_type": "markdown",
   "metadata": {},
   "source": [
    "Let's plot target and predicted classes. Shift the predicted class a bit upward to we can see it."
   ]
  },
  {
   "cell_type": "code",
   "execution_count": 13,
   "metadata": {
    "scrolled": true
   },
   "outputs": [
    {
     "data": {
      "image/png": "[encoded data removed]",
      "text/plain": [
       "<Figure size 1080x360 with 2 Axes>"
      ]
     },
     "metadata": {},
     "output_type": "display_data"
    }
   ],
   "source": [
    "plt.figure(figsize=(15, 5))\n",
    "plt.subplot(1, 2, 1)\n",
    "plt.plot(nnet_new.get_error_trace())\n",
    "plt.xlabel('epoch')\n",
    "plt.ylabel('Likelihood')\n",
    "\n",
    "plt.subplot(1, 2, 2)\n",
    "plt.plot(T, 'o-')\n",
    "plt.plot(Y_classes + 0.05, 'o-')\n",
    "plt.xlabel('Sample Index')\n",
    "plt.ylabel('Class')\n",
    "plt.legend(['Target Class', 'Predicted Class']);"
   ]
  },
  {
   "cell_type": "markdown",
   "metadata": {},
   "source": [
    "On this toy data, we can see that the certainty increased through the epochs until it was 100% certain about its classifications. In examining the data next to the predictions, we can see that the model was indeed correct."
   ]
  },
  {
   "cell_type": "markdown",
   "metadata": {},
   "source": [
    "## Real Data Set\n"
   ]
  },
  {
   "cell_type": "markdown",
   "metadata": {},
   "source": [
    "To test on a real dataset, I've chosen the Parkinsons dataset, available at https://archive.ics.uci.edu/ml/machine-learning-databases/parkinsons/. The code below divides it into X and T to be used in nnet classifier."
   ]
  },
  {
   "cell_type": "code",
   "execution_count": 14,
   "metadata": {},
   "outputs": [],
   "source": [
    "def loadData(filename='covtype.data'):\n",
    "    with open(filename,\"r\") as f:\n",
    "        names = ['Elevation', 'Aspect', 'Slope', 'Horizontal_Distance_To_Hydrology', 'Vertical_Distance_To_Hydrology',\n",
    "        'Horizontal_Distance_To_Roadways', 'Hillshade_9am', 'Hillshade_Noon', 'Hillshade_3pm', 'Horizontal_Distance_To_Fire_Points',\n",
    "        'Rawah_Wilderness_Area', 'Neota_Wilderness_Area', 'Comanche_Peak_Wilderness_Area', 'Cache_la_Poudre_Wilderness_Area',\n",
    "        '1', '2', '3', '4', '5', '6', '7', '8', '9', '10', '11', '12', '13', '14', '15', '16', '17', '18', '19', '20',\n",
    "        '21', '22', '23', '24', '25', '26', '27', '28', '29', '30', '31', '32', '33','34', '35', '36', '37', '38', '39',\n",
    "        '40', 'Cover_Type']\n",
    "\n",
    "        data = np.loadtxt(f, delimiter=',')\n",
    "\n",
    "    targetColumn = names.index(\"Cover_Type\")\n",
    "    XColumns = np.arange(54)\n",
    "    XColumns = np.delete(XColumns, targetColumn - 1)\n",
    "    X = data[:,XColumns]\n",
    "    T = data[:,targetColumn].reshape((-1,1)) # to keep 2-d matrix form\n",
    "    names.remove(\"Cover_Type\")\n",
    "    return X,T,names"
   ]
  },
  {
   "cell_type": "code",
   "execution_count": 15,
   "metadata": {},
   "outputs": [],
   "source": [
    "X, T, names = loadData()"
   ]
  },
  {
   "cell_type": "code",
   "execution_count": 16,
   "metadata": {},
   "outputs": [],
   "source": [
    "def loadParkinsonsData(filename='parkinsons.data'):\n",
    "    with open(filename,\"r\") as f:\n",
    "        header = f.readline()\n",
    "        names = header.strip().split(',')[1:]\n",
    "\n",
    "        data = np.loadtxt(f, delimiter=',', usecols=1+np.arange(23))\n",
    "\n",
    "    targetColumn = names.index(\"status\")\n",
    "    XColumns = np.arange(23)\n",
    "    XColumns = np.delete(XColumns, targetColumn)\n",
    "    X = data[:,XColumns]\n",
    "    T = data[:,targetColumn].reshape((-1,1)) # to keep 2-d matrix form\n",
    "    names.remove(\"status\")\n",
    "    return X,T,names"
   ]
  },
  {
   "cell_type": "code",
   "execution_count": 17,
   "metadata": {
    "scrolled": true
   },
   "outputs": [
    {
     "data": {
      "text/plain": [
       "((195, 22),\n",
       " (195, 1),\n",
       " ['MDVP:Fo(Hz)',\n",
       "  'MDVP:Fhi(Hz)',\n",
       "  'MDVP:Flo(Hz)',\n",
       "  'MDVP:Jitter(%)',\n",
       "  'MDVP:Jitter(Abs)',\n",
       "  'MDVP:RAP',\n",
       "  'MDVP:PPQ',\n",
       "  'Jitter:DDP',\n",
       "  'MDVP:Shimmer',\n",
       "  'MDVP:Shimmer(dB)',\n",
       "  'Shimmer:APQ3',\n",
       "  'Shimmer:APQ5',\n",
       "  'MDVP:APQ',\n",
       "  'Shimmer:DDA',\n",
       "  'NHR',\n",
       "  'HNR',\n",
       "  'RPDE',\n",
       "  'DFA',\n",
       "  'spread1',\n",
       "  'spread2',\n",
       "  'D2',\n",
       "  'PPE'])"
      ]
     },
     "execution_count": 17,
     "metadata": {},
     "output_type": "execute_result"
    }
   ],
   "source": [
    "X,T,names = loadParkinsonsData()\n",
    "X.shape, T.shape, names"
   ]
  },
  {
   "cell_type": "code",
   "execution_count": 18,
   "metadata": {},
   "outputs": [
    {
     "data": {
      "text/plain": [
       "NeuralNetworkClassifier(22, [0], 22, use_torch=False)  Network is not trained."
      ]
     },
     "execution_count": 18,
     "metadata": {},
     "output_type": "execute_result"
    }
   ],
   "source": [
    "nnetPark = NeuralNetworkClassifier(22, [0], names)\n",
    "nnetPark"
   ]
  },
  {
   "cell_type": "code",
   "execution_count": 19,
   "metadata": {},
   "outputs": [
    {
     "ename": "AttributeError",
     "evalue": "'int' object has no attribute 'shape'",
     "output_type": "error",
     "traceback": [
      "\u001b[1;31m---------------------------------------------------------------------------\u001b[0m",
      "\u001b[1;31mAttributeError\u001b[0m                            Traceback (most recent call last)",
      "\u001b[1;32m<ipython-input-19-36a594b584f5>\u001b[0m in \u001b[0;36m<module>\u001b[1;34m()\u001b[0m\n\u001b[1;32m----> 1\u001b[1;33m \u001b[0mnnetPark\u001b[0m\u001b[1;33m.\u001b[0m\u001b[0mtrain\u001b[0m\u001b[1;33m(\u001b[0m\u001b[1;36m22\u001b[0m\u001b[1;33m,\u001b[0m \u001b[0mT\u001b[0m\u001b[1;33m,\u001b[0m \u001b[1;36m100\u001b[0m\u001b[1;33m)\u001b[0m\u001b[1;33m\u001b[0m\u001b[0m\n\u001b[0m",
      "\u001b[1;32m<ipython-input-1-cba22cf096b6>\u001b[0m in \u001b[0;36mtrain\u001b[1;34m(self, X, T, n_epochs, method, verbose, save_weights_history, learning_rate, momentum_rate)\u001b[0m\n\u001b[0;32m     84\u001b[0m               momentum_rate=0.0): # only for sgd and adam          \n\u001b[0;32m     85\u001b[0m \u001b[1;33m\u001b[0m\u001b[0m\n\u001b[1;32m---> 86\u001b[1;33m         \u001b[1;32mif\u001b[0m \u001b[0mX\u001b[0m\u001b[1;33m.\u001b[0m\u001b[0mshape\u001b[0m\u001b[1;33m[\u001b[0m\u001b[1;36m1\u001b[0m\u001b[1;33m]\u001b[0m \u001b[1;33m!=\u001b[0m \u001b[0mself\u001b[0m\u001b[1;33m.\u001b[0m\u001b[0mn_inputs\u001b[0m\u001b[1;33m:\u001b[0m\u001b[1;33m\u001b[0m\u001b[0m\n\u001b[0m\u001b[0;32m     87\u001b[0m             \u001b[1;32mraise\u001b[0m \u001b[0mException\u001b[0m\u001b[1;33m(\u001b[0m\u001b[1;34mf'train: number of columns in X ({X.shape[1]}) not equal to number of network inputs ({self.n_inputs})'\u001b[0m\u001b[1;33m)\u001b[0m\u001b[1;33m\u001b[0m\u001b[0m\n\u001b[0;32m     88\u001b[0m \u001b[1;33m\u001b[0m\u001b[0m\n",
      "\u001b[1;31mAttributeError\u001b[0m: 'int' object has no attribute 'shape'"
     ]
    }
   ],
   "source": [
    "nnetPark.train(22, T, 100)"
   ]
  },
  {
   "cell_type": "markdown",
   "metadata": {},
   "source": [
    "# Grading\n",
    "\n",
    "Download [A3grader.zip](https://www.cs.colostate.edu/~anderson/cs545/notebooks/A3grader.zip) and extract A3grader.py from it. Run the code in the following cell to demonstrate an example grading session. You should see a perfect execution score of 80/80 if your functions are defined correctly. Other tests will be performed on your checked in notebook to make up the 80 execution points. The remaining 20 points will be based on the results you obtain from the classification data you download and your discussion of the results."
   ]
  },
  {
   "cell_type": "code",
   "execution_count": 20,
   "metadata": {},
   "outputs": [
    {
     "name": "stdout",
     "output_type": "stream",
     "text": [
      "\n",
      "======================= Code Execution =======================\n",
      "\n",
      "Extracting python code from notebook named 'Houlton-A1.ipynb' and storing in notebookcode.py\n",
      "Removing all statements that are not function or class defs or import statements.\n",
      "\n",
      "Testing if your NeuralNetworkClassifier can learn to detect vowels when given\n",
      "their ascii codes.\n",
      "\n",
      "import numpy as np\n",
      "ascii_code = list(range(65, 91)) + list(range(97, 123))\n",
      "chars = [chr(n).lower() for n in ascii_code]\n",
      "vowel = [c in ['a', 'e', 'i', 'o', 'u'] for c in chars]\n",
      "X = np.array(ascii_code).reshape((-1, 1))\n",
      "T = np.array(vowel).reshape((-1, 1))\n",
      "classes = np.unique(T)\n",
      "\n",
      "np.random.seed(120)\n",
      "nnet = NeuralNetworkClassifier(X.shape[1], [50, 20, 20], classes)\n",
      "nnet.train(X, T, 10000, verbose=True)\n",
      "Yc, Y = nnet.use(X)\n",
      "n_correct = (Yc == T).sum()\n",
      "print(f'{n_correct} out of {T.shape[0]} samples, or {n_correct/T.shape[0]*100:.2f} percent.')\n",
      "[[0 1]\n",
      " [1 0]\n",
      " [1 0]\n",
      " [1 0]\n",
      " [0 1]\n",
      " [1 0]\n",
      " [1 0]\n",
      " [1 0]\n",
      " [0 1]\n",
      " [1 0]]\n",
      "SCG: Iteration 1000 ObjectiveF=0.79674 Scale=1.000e-15 Seconds=1.673\n"
     ]
    },
    {
     "name": "stderr",
     "output_type": "stream",
     "text": [
      "A3grader.py:70: RuntimeWarning: invalid value encountered in true_divide\n",
      "  not isinstance(node, ast.Import)):  #  and\n",
      "A3grader.py:77: RuntimeWarning: divide by zero encountered in log\n",
      "  exec(code, module.__dict__)\n",
      "A3grader.py:77: RuntimeWarning: invalid value encountered in multiply\n",
      "  exec(code, module.__dict__)\n"
     ]
    },
    {
     "name": "stdout",
     "output_type": "stream",
     "text": [
      "SCG: Iteration 2000 ObjectiveF=0.81498 Scale=4.295e-06 Seconds=2.407\n",
      "SCG: Iteration 3000 ObjectiveF=0.82431 Scale=1.000e-15 Seconds=2.205\n",
      "SCG: Iteration 4000 ObjectiveF=0.83966 Scale=1.000e-15 Seconds=2.164\n",
      "SCG: Iteration 5000 ObjectiveF=0.86282 Scale=1.000e-15 Seconds=1.920\n",
      "SCG: Iteration 6000 ObjectiveF=0.88038 Scale=1.000e-15 Seconds=1.932\n",
      "SCG: Iteration 7000 ObjectiveF=0.91337 Scale=1.000e-15 Seconds=1.912\n",
      "SCG: Iteration 8000 ObjectiveF=0.93573 Scale=1.000e-15 Seconds=1.956\n",
      "SCG: Iteration 9000 ObjectiveF=0.95141 Scale=1.000e-15 Seconds=1.926\n",
      "SCG: Iteration 10000 ObjectiveF=0.96361 Scale=1.000e-15 Seconds=1.843\n",
      "51 out of 52 samples, or 98.08 percent.\n",
      "\n",
      "--- 80/80 points. Returned correct value of 51.\n",
      "\n",
      "======================================================================\n",
      "C:\\Users\\Sarah\\Documents\\Sarah\\Grad Comp Sci\\CS 545 Execution Grade is 80 / 80\n",
      "======================================================================\n",
      "\n",
      " __ / 10 You obtained data for a classification problem and set up\n",
      "         X and T matrices correctly.\n",
      "\n",
      " __ / 10 You compared several different network sizes, numbers of\n",
      "         epochs, and optimization algoritms and described the results.\n",
      "\n",
      "======================================================================\n",
      "C:\\Users\\Sarah\\Documents\\Sarah\\Grad Comp Sci\\CS 545 FINAL GRADE is  _  / 100\n",
      "======================================================================\n",
      "\n",
      "Extra Credit:\n",
      "1. For the data set you have downloaded, randomly partition the data into about\n",
      "   80% for training and 20% for testing. Discuss the percent of samples correctly\n",
      "   classified for train and test partitions and how variations in netowrk size, \n",
      "   epochs, and optimization algorithm effect the results.\n",
      "2. Develop a new version of optimizers.py, neuralnetworks.py and your\n",
      "   NeuralNetworkClassifier class that will run on a GPU using pytorch. \n",
      "   Add a keyword argument where neded called use_gpu that can be set to True to\n",
      "   run on GPU.\n",
      "\n",
      "C:\\Users\\Sarah\\Documents\\Sarah\\Grad Comp Sci\\CS 545 EXTRA CREDIT is 0 / 2\n"
     ]
    },
    {
     "data": {
      "text/plain": [
       "<Figure size 432x288 with 0 Axes>"
      ]
     },
     "metadata": {},
     "output_type": "display_data"
    }
   ],
   "source": [
    "%run -i A3grader.py"
   ]
  },
  {
   "cell_type": "code",
   "execution_count": null,
   "metadata": {},
   "outputs": [],
   "source": []
  }
 ],
 "metadata": {
  "kernelspec": {
   "display_name": "Python 3",
   "language": "python",
   "name": "python3"
  },
  "language_info": {
   "codemirror_mode": {
    "name": "ipython",
    "version": 3
   },
   "file_extension": ".py",
   "mimetype": "text/x-python",
   "name": "python",
   "nbconvert_exporter": "python",
   "pygments_lexer": "ipython3",
   "version": "3.6.5"
  }
 },
 "nbformat": 4,
 "nbformat_minor": 2
}
