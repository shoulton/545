{
 "cells": [
  {
   "cell_type": "markdown",
   "metadata": {},
   "source": [
    "$\\newcommand{\\xv}{\\mathbf{x}}\n",
    "\\newcommand{\\Xv}{\\mathbf{X}}\n",
    "\\newcommand{\\yv}{\\mathbf{y}}\n",
    "\\newcommand{\\zv}{\\mathbf{z}}\n",
    "\\newcommand{\\av}{\\mathbf{a}}\n",
    "\\newcommand{\\Wv}{\\mathbf{W}}\n",
    "\\newcommand{\\wv}{\\mathbf{w}}\n",
    "\\newcommand{\\tv}{\\mathbf{t}}\n",
    "\\newcommand{\\Tv}{\\mathbf{T}}\n",
    "\\newcommand{\\muv}{\\boldsymbol{\\mu}}\n",
    "\\newcommand{\\sigmav}{\\boldsymbol{\\sigma}}\n",
    "\\newcommand{\\phiv}{\\boldsymbol{\\phi}}\n",
    "\\newcommand{\\Phiv}{\\boldsymbol{\\Phi}}\n",
    "\\newcommand{\\Sigmav}{\\boldsymbol{\\Sigma}}\n",
    "\\newcommand{\\Lambdav}{\\boldsymbol{\\Lambda}}\n",
    "\\newcommand{\\half}{\\frac{1}{2}}\n",
    "\\newcommand{\\argmax}[1]{\\underset{#1}{\\operatorname{argmax}}}\n",
    "\\newcommand{\\argmin}[1]{\\underset{#1}{\\operatorname{argmin}}}$"
   ]
  },
  {
   "cell_type": "markdown",
   "metadata": {},
   "source": [
    "# Assignment 5.1: Control a Marble with Reinforcement Learning"
   ]
  },
  {
   "cell_type": "markdown",
   "metadata": {},
   "source": [
    "* A5.1: Details added in Requirements and grading script now available."
   ]
  },
  {
   "cell_type": "markdown",
   "metadata": {},
   "source": [
    "*Type your name here*"
   ]
  },
  {
   "cell_type": "markdown",
   "metadata": {},
   "source": [
    "## Overview"
   ]
  },
  {
   "cell_type": "markdown",
   "metadata": {},
   "source": [
    "In this assignment, you will be modifying the reinforcement learning code used to solve the dynamic marble problem.  You will be solving a more complex version of the marble problem in which a goal position is specified as a new state variable."
   ]
  },
  {
   "cell_type": "markdown",
   "metadata": {},
   "source": [
    "Start with the code in the notebook for lecture notes 17."
   ]
  },
  {
   "cell_type": "markdown",
   "metadata": {},
   "source": [
    "## Requirements"
   ]
  },
  {
   "cell_type": "markdown",
   "metadata": {},
   "source": [
    "Modify the code from Lecture Notes 17 to change the\n",
    "reinforcement learning problem to one for which the goal position of\n",
    "the marble can be varied. In other words, your new code must train one Q network for the marble problem with a variable goal. \n",
    "\n",
    "Make the following modifications.\n",
    "\n",
    "1. To `initialState` add an argument named `goal` with a default value of `None`. In the body of this function, if `goal` is `None` then assign it a random value uniformly distributed between 1 and 9.  Return an initial state with position and velocity as defined before but now with the third component being the goal.\n",
    "2. To the `reinforcement` function use the goal that is the third component of the first state argument.\n",
    "3. In `nextState`, make sure that the state that is returned has the same goal as given in the state that is passed in as the first argument.\n",
    "4. Make several other changes in the code to handle the changes you have made to the state representation.\n",
    "    \n",
    "\n",
    "Use the plotting code from Lecture 17 to show your results.  In addition to those plots, create nine additional versions of the lower-right plot for goal positions at 1, 2, 3, 4, 5, 6, 7, 8, and 9.\n",
    "\n",
    "The general approach is as follows.\n",
    "\n",
    "The state of the marble is given by $(x_t,\n",
    "\\dot{x_t})$.  In this new problem, the state will be $(x_t,\n",
    "\\dot{x_t}, g_t)$, where $g_t$ is the goal at time $t$.  Modify the\n",
    "`initialState` function to randomly choose a new goal $g_t$ to be a\n",
    "random value between 1 and 9. Modify `nextState` so that the goal\n",
    "value remains the same in the new state as it was in the old state.  You will also\n",
    "have to modify the reinforcement function to depend on the\n",
    "current $g_t$ value.\n",
    "\n",
    "Many of the figures will still make sense.  Include them in your\n",
    "report.  The contour (and surface)\n",
    "plots and the plot that tests the marble's behavior for various intial\n",
    "positions must be produced for a single value of the goal.  Generate\n",
    "several versions of the contour and surface plots and the test plots for goals of 1, 5, and 9 to show how\n",
    "they vary when the goal is varied.\n",
    "\n",
    "Experiment with values of the parameters, such as the number of trials, number of\n",
    "steps per trial, number of SCG iterations in each train call, number of hidden units, finalEpsilon, and gamma.  Try\n",
    "to find values that result in a trained network that controls the\n",
    "marble well for most of the goal settings.\n",
    "Discuss your experience with finding good parameter values.\n",
    "\n",
    "Discuss the changes you tried and the results."
   ]
  },
  {
   "cell_type": "markdown",
   "metadata": {},
   "source": [
    "## Grading"
   ]
  },
  {
   "cell_type": "code",
   "execution_count": 3,
   "metadata": {},
   "outputs": [],
   "source": [
    "from A5mysolution import *"
   ]
  },
  {
   "cell_type": "markdown",
   "metadata": {},
   "source": [
    "Download [A5grader.zip](http://www.cs.colostate.edu/~anderson/cs545/notebooks/A5grader.zip) and extract A5grader.py from it. Run the code in the following cell to demonstrate an example grading session. "
   ]
  },
  {
   "cell_type": "code",
   "execution_count": 5,
   "metadata": {},
   "outputs": [
    {
     "name": "stdout",
     "output_type": "stream",
     "text": [
      "\n",
      "======================= Code Execution =======================\n",
      "\n",
      "Extracting python code from notebook named 'junk-A5.ipynb' and storing in notebookcode.py\n",
      "Removing all statements that are not function or class defs or import statements.\n",
      "\n",
      "######################################################################\n",
      "Testing\n",
      "s = initialState(6.6)\n",
      "\n",
      "\n",
      "--- 20/20 points. initialState correctly returns goal of 6.6 as third component.\n",
      "\n",
      "######################################################################\n",
      "Testing\n",
      "\n",
      "r = reinforcement(np.array([2.8, 2, 3]), np.array([3.6, 1, 3]))\n",
      "\n",
      "\n",
      "--- 20/20 points. reinforcement correctly returns 0.\n",
      "\n",
      "######################################################################\n",
      "Testing\n",
      "\n",
      "r = reinforcement(np.array([7., 2., 3.]), np.array([8., 1., 3.]))\n",
      "\n",
      "\n",
      "--- 20/20 points. reinforcement correctly returns -1.\n",
      "\n",
      "######################################################################\n",
      "Testing\n",
      "\n",
      "s_next = nextState(np.array([1.0, 0.0, 7.0]), 1.0)\n",
      "\n",
      "\n",
      "\n",
      "--- 10/10 points. nextState correctly returns new state with velociy > 0 and goal of 7.\n",
      "\n",
      "======================================================================\n",
      "A5 Execution Grade is 70 / 70\n",
      "======================================================================\n",
      "\n",
      " __ / 10 You correctly plot 9 versions of the testIt plot for different goals.\n",
      "\n",
      " __ / 10 You show several versions of the contour and surface plots for goals of 1, 5 and 9.\n",
      "\n",
      " __ / 10 You show results of trying variety of parameters values to get best results\n",
      "         and you discuss the results.\n",
      "\n",
      "======================================================================\n",
      "A5 FINAL GRADE is  _  / 100\n",
      "======================================================================\n",
      "\n",
      "Extra Credit:\n",
      "1. Change the marble's world from one dimension to two. Add graphs of the marble's movement in the two-dimensional plane.\n",
      "2. Increase the number of valid actions from three to seven and discuss the difference between the required runs and these new runs.\n",
      "3. Add a variable wind as a force on the marble, along with another state variable that indicates wind speed and direction.\n",
      "4. Add a second marble with its own RL agent. Add negative reinforcement if they bump into each other.\n",
      "5. Add areas of increased friction to the track.\n",
      "\n",
      "A5 EXTRA CREDIT is 0 / 5\n"
     ]
    }
   ],
   "source": [
    "%run -i A5grader.py"
   ]
  },
  {
   "cell_type": "markdown",
   "metadata": {},
   "source": [
    "## Extra Credit"
   ]
  },
  {
   "cell_type": "markdown",
   "metadata": {},
   "source": [
    "One point of extra credit will be given for completing each of the following things.\n",
    "\n",
    "* Change the marble's world from one dimension to two. Add graphs of the marble's movement in the two-dimensional plane.\n",
    "* Increase the number of valid actions from three to seven and discuss the difference between the required runs and these new runs.\n",
    "* Add a variable wind as a force on the marble, along with another state variable that indicates wind speed and direction.\n",
    "* Add a second marble with its own RL agent.  Add negative reinforcement if they bump into each other.\n",
    "* Add areas of increased friction to the track.\n",
    "\n",
    "For all of these, demonstrate the effects and write about what you observe.  Full extra credit points will only be awarded if you clearly describe your work and results for each point."
   ]
  },
  {
   "cell_type": "markdown",
   "metadata": {},
   "source": [
    "## Check-in"
   ]
  },
  {
   "cell_type": "markdown",
   "metadata": {},
   "source": [
    "Do not include this section in your notebook.\n",
    "\n",
    "Name your notebook ```Lastname-A5.ipynb```.  So, for me it would be ```Anderson-A5.ipynb```.  Submit the file using the ```Assignment 5``` link on [Canvas](https://colostate.instructure.com/courses/86986).\n"
   ]
  },
  {
   "cell_type": "code",
   "execution_count": null,
   "metadata": {},
   "outputs": [],
   "source": []
  }
 ],
 "metadata": {
  "anaconda-cloud": {},
  "kernelspec": {
   "display_name": "Python 3",
   "language": "python",
   "name": "python3"
  },
  "language_info": {
   "codemirror_mode": {
    "name": "ipython",
    "version": 3
   },
   "file_extension": ".py",
   "mimetype": "text/x-python",
   "name": "python",
   "nbconvert_exporter": "python",
   "pygments_lexer": "ipython3",
   "version": "3.6.5"
  }
 },
 "nbformat": 4,
 "nbformat_minor": 1
}
