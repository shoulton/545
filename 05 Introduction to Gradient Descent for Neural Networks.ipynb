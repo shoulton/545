{
 "cells": [
  {
   "cell_type": "markdown",
   "metadata": {},
   "source": [
    "# Introduction to Gradient Descent for Neural Networks"
   ]
  },
  {
   "cell_type": "markdown",
   "metadata": {},
   "source": [
    "First the idea of layers of simple computational units is discussed.  Then the gradient of the error function of the final layer's output with respect to all weights in all layers is defined.  Finally, the gradient function is defined and SGD, Adam and SCG is applied to some simple layered networks."
   ]
  },
  {
   "cell_type": "markdown",
   "metadata": {},
   "source": [
    "## Layers of Computational Units"
   ]
  },
  {
   "cell_type": "markdown",
   "metadata": {},
   "source": [
    "![Two Units](http://www.cs.colostate.edu/~anderson/cs545/notebooks/net1a.png)"
   ]
  },
  {
   "cell_type": "markdown",
   "metadata": {},
   "source": [
    "$$ \n",
    "\\begin{align*}\n",
    "z &= \\tanh(v_0 + v_1 x)\\\\\n",
    "y &= w_0 + w_1 z\n",
    "\\end{align*}\n",
    "$$"
   ]
  },
  {
   "cell_type": "code",
   "execution_count": 4,
   "metadata": {},
   "outputs": [
    {
     "data": {
      "text/plain": [
       "[<matplotlib.lines.Line2D at 0x1fd71f637b8>]"
      ]
     },
     "execution_count": 4,
     "metadata": {},
     "output_type": "execute_result"
    },
    {
     "data": {
      "image/png": "[encoded data removed]",
      "text/plain": [
       "<Figure size 432x288 with 1 Axes>"
      ]
     },
     "metadata": {},
     "output_type": "display_data"
    }
   ],
   "source": [
    "import numpy as np\n",
    "import matplotlib.pyplot as plt\n",
    "%matplotlib inline\n",
    "\n",
    "xs = np.linspace(-10, 10, 100)\n",
    "plt.plot(xs, np.tanh(xs))"
   ]
  },
  {
   "cell_type": "markdown",
   "metadata": {},
   "source": [
    "## Gradient of Error Function with Respect to All Weights"
   ]
  },
  {
   "cell_type": "code",
   "execution_count": 5,
   "metadata": {},
   "outputs": [],
   "source": [
    "import sympy"
   ]
  },
  {
   "cell_type": "code",
   "execution_count": 6,
   "metadata": {},
   "outputs": [
    {
     "data": {
      "text/plain": [
       "(t - y)**2"
      ]
     },
     "execution_count": 6,
     "metadata": {},
     "output_type": "execute_result"
    }
   ],
   "source": [
    "x, v, z, w, y, t = sympy.symbols('x v z w y t')\n",
    "E = (t - y)**2\n",
    "E"
   ]
  },
  {
   "cell_type": "code",
   "execution_count": 10,
   "metadata": {},
   "outputs": [
    {
     "data": {
      "text/plain": [
       "(t - w*tanh(v*x))**2"
      ]
     },
     "execution_count": 10,
     "metadata": {},
     "output_type": "execute_result"
    }
   ],
   "source": [
    "z = sympy.tanh(x*v)\n",
    "y = w*z\n",
    "E = (t - y)**2\n",
    "E"
   ]
  },
  {
   "cell_type": "code",
   "execution_count": 8,
   "metadata": {},
   "outputs": [
    {
     "data": {
      "text/plain": [
       "[-2*w*x*(t - w*tanh(v*x))*(-tanh(v*x)**2 + 1), -2*(t - w*tanh(v*x))*tanh(v*x)]"
      ]
     },
     "execution_count": 8,
     "metadata": {},
     "output_type": "execute_result"
    }
   ],
   "source": [
    "dE = sympy.derive_by_array(E, [v, w])\n",
    "dE"
   ]
  },
  {
   "cell_type": "code",
   "execution_count": 11,
   "metadata": {},
   "outputs": [
    {
     "data": {
      "text/plain": [
       "[2*w*x*(t - w*tanh(v*x))*(tanh(v*x)**2 - 1), -2*(t - w*tanh(v*x))*tanh(v*x)]"
      ]
     },
     "execution_count": 11,
     "metadata": {},
     "output_type": "execute_result"
    }
   ],
   "source": [
    "sympy.simplify(dE)"
   ]
  },
  {
   "cell_type": "markdown",
   "metadata": {},
   "source": [
    "![Two Units](http://www.cs.colostate.edu/~anderson/cs545/notebooks/net1a.png)"
   ]
  },
  {
   "cell_type": "markdown",
   "metadata": {},
   "source": [
    "$$ \n",
    "\\begin{align*}\n",
    "z_i &= \\tanh(v_0 + v_1 x_i)\\\\\n",
    "y_i &= w_0 + w_1 z_i\n",
    "\\end{align*}\n",
    "$$"
   ]
  },
  {
   "cell_type": "markdown",
   "metadata": {},
   "source": [
    "$$\n",
    "\\begin{align*}\n",
    "E &= \\frac{1}{N} \\sum_{i=1}^N (t_i - y_i)^2\\\\\n",
    "\\nabla E_{w_0} &= -\\frac{2}{N} \\sum_{i=1}^N (t_i - y_i)\\\\\n",
    "\\nabla E_{w_1} &= -\\frac{2}{N} \\sum_{i=1}^N (t_i - y_i) z_i \\\\\n",
    "\\nabla E_{v_0} &= -\\frac{2}{N} \\sum_{i=1}^N (t_i - y_i) w_1 \\tanh_i'\\\\\n",
    " &= -\\frac{2}{N} \\sum_{i=1}^N (t_i - y_i) w_1 (1 - z_i^2)\\\\\n",
    "\\nabla E_{v_1} &= -\\frac{2}{N} \\sum_{i=1}^N (t_i - y_i) w_1 \\tanh_i' x_i\\\\\n",
    "&= -\\frac{2}{N} \\sum_{i=1}^N (t_i - y_i) w_1 (1-z_i^2) x_i\n",
    "\\end{align*}\n",
    "$$\n"
   ]
  },
  {
   "cell_type": "markdown",
   "metadata": {},
   "source": [
    "Substituting for the common factors:\n",
    "$$\n",
    "\\begin{align*}\n",
    "E &= \\frac{1}{N} \\sum_{i=1}^N (t_i - y_i)^2\\\\\n",
    "\\nabla E_{w_0} &= -\\frac{2}{N} \\sum_{i=1}^N (t_i - y_i)\\\\\n",
    "&= -\\frac{2}{N} \\sum_{i=1}^N \\delta_i\\\\\n",
    "\\nabla E_{w_1} &= -\\frac{2}{N} \\sum_{i=1}^N \\delta_i z_i \\\\\n",
    "\\nabla E_{v_0} &= -\\frac{2}{N} \\sum_{i=1}^N \\delta_i w_1 \\tanh_i'\\\\\n",
    " &= -\\frac{2}{N} \\sum_{i=1}^N \\delta_i w_1 (1 - z_i^2)\\\\\n",
    " &= -\\frac{2}{N} \\sum_{i=1}^N \\delta_i^z\\\\\n",
    "\\nabla E_{v_1} &=  -\\frac{2}{N} \\sum_{i=1}^N \\delta_i^z x_i\n",
    "\\end{align*}\n",
    "$$\n",
    "\n"
   ]
  },
  {
   "cell_type": "markdown",
   "metadata": {},
   "source": [
    "## Python Functions for the Layered Model and its Error Gradient"
   ]
  },
  {
   "cell_type": "code",
   "execution_count": 12,
   "metadata": {},
   "outputs": [],
   "source": [
    "import numpy as np\n",
    "import matplotlib.pyplot as plt\n",
    "%matplotlib inline\n",
    "\n",
    "import pandas\n",
    "import optimizers as opt\n",
    "\n",
    "import IPython.display as ipd  # for display and clear_output\n",
    "import time  # for sleep"
   ]
  },
  {
   "cell_type": "code",
   "execution_count": 13,
   "metadata": {},
   "outputs": [],
   "source": [
    "def network_one_layer(w, X, all_outputs=False):\n",
    "    V = w[0:2].reshape((-1, 1))  # + 1 for the bias weight\n",
    "    W = w[2:4].reshape((-1, 1))\n",
    "    Z = np.tanh(V[0] + X @ V[1:])\n",
    "    Y = W[0] + Z @ W[1:]\n",
    "    return (Y, Z) if all_outputs else Y\n",
    "\n",
    "def error_gradient_network_one_layer(w, network, X, T):\n",
    "    Y, Z = network(w, X, all_outputs=True)\n",
    "    dEdY = -2 * (T - Y)                        # n_samples x 1\n",
    "    dYdW = np.insert(Z, 0, 1, axis=1)          # n_samples x 2\n",
    "    dYdZ = w[3]                                # W[1], last element in w\n",
    "    dZdV = (1 - Z**2) * np.insert(X, 0, 1, axis=1)  # n_samples x 2\n",
    "    dEdW = dEdY.T @ dYdW                       # 1 x n_samples @ n_samples x 2 = 1 x 2\n",
    "    dEdV = dEdY.T @ (dYdZ * dZdV)              # 1 x n_samples @ (1 * n_samples x 2) = 1 x 2    \n",
    "    dEdw = np.hstack((dEdV, dEdW)) / X.shape[0]  # 1 x 4\n",
    "\n",
    "    return dEdw.reshape((-1, 1))               # 4 x 1\n",
    "\n",
    "def mse(w, model, X, T):\n",
    "    Y = model(w, X)\n",
    "    return np.mean((T - Y)**2)"
   ]
  },
  {
   "cell_type": "code",
   "execution_count": 14,
   "metadata": {},
   "outputs": [
    {
     "data": {
      "text/plain": [
       "(87, 2)"
      ]
     },
     "execution_count": 14,
     "metadata": {},
     "output_type": "execute_result"
    }
   ],
   "source": [
    "data = pandas.read_csv('AirQualityUCI.csv', delimiter=';', decimal=',', usecols=range(15), na_values=-200)\n",
    "data = data[['Time', 'CO(GT)']]\n",
    "data = data [:23*4]\n",
    "data = data.dropna(axis=0)\n",
    "data.shape"
   ]
  },
  {
   "cell_type": "code",
   "execution_count": 15,
   "metadata": {},
   "outputs": [
    {
     "data": {
      "text/plain": [
       "array([[18. ,  2.6],\n",
       "       [19. ,  2. ],\n",
       "       [20. ,  2.2],\n",
       "       [21. ,  2.2],\n",
       "       [22. ,  1.6],\n",
       "       [23. ,  1.2],\n",
       "       [ 0. ,  1.2],\n",
       "       [ 1. ,  1. ],\n",
       "       [ 2. ,  0.9],\n",
       "       [ 3. ,  0.6]])"
      ]
     },
     "execution_count": 15,
     "metadata": {},
     "output_type": "execute_result"
    }
   ],
   "source": [
    "hour = [int(t[:2]) for t in data['Time']]\n",
    "X = np.array(hour).reshape(-1, 1)\n",
    "CO = data['CO(GT)']\n",
    "T = np.array(CO).reshape(-1, 1)\n",
    "np.hstack((X, T))[:10]  # show the first 10 samples of hour, CO"
   ]
  },
  {
   "cell_type": "code",
   "execution_count": 16,
   "metadata": {},
   "outputs": [],
   "source": [
    "n_inputs = X.shape[1]\n",
    "n_units = 1\n",
    "n_V = n_units * (n_inputs + 1)\n",
    "n_W = n_units + 1\n",
    "\n",
    "initial_w = np.zeros((n_V + n_W, 1))\n",
    "initial_w = np.random.uniform(-0.1, 0.1, (n_V + n_W, 1))\n",
    "\n",
    "result_sgd = opt.sgd(initial_w,\n",
    "                     mse, error_gradient_network_one_layer, fargs=[network_one_layer, X, T],\n",
    "                     n_iterations=2000, learning_rate=1e-4, momentum_rate=0.5)\n",
    "result_adam = opt.adam(initial_w, \n",
    "                       mse, error_gradient_network_one_layer, fargs=[network_one_layer, X, T],\n",
    "                        n_iterations=2000, learning_rate=1e-3)\n",
    "result_scg = opt.scg(initial_w,\n",
    "                     mse, error_gradient_network_one_layer, fargs=[network_one_layer, X, T],\n",
    "                     n_iterations=2000)"
   ]
  },
  {
   "cell_type": "code",
   "execution_count": 17,
   "metadata": {},
   "outputs": [
    {
     "data": {
      "image/png": "[encoded data removed]",
      "text/plain": [
       "<Figure size 864x360 with 2 Axes>"
      ]
     },
     "metadata": {},
     "output_type": "display_data"
    }
   ],
   "source": [
    "plt.figure(figsize=(12, 5))\n",
    "plt.subplot(1, 2, 1)\n",
    "plt.plot(result_sgd['ftrace'], label='SGD')\n",
    "plt.plot(result_adam['ftrace'], label='Adam')\n",
    "plt.plot(result_scg['ftrace'], label='SCG')\n",
    "plt.legend()\n",
    "\n",
    "plt.subplot(1, 2, 2)\n",
    "plt.plot(X, T, 'k.')\n",
    "xs = np.linspace(0, 23, 100).reshape((-1, 1))\n",
    "plt.plot(xs, network_one_layer(result_sgd['w'], xs), label='SGD')\n",
    "plt.plot(xs, network_one_layer(result_adam['w'], xs), label='Adam')\n",
    "plt.plot(xs, network_one_layer(result_scg['w'], xs), label='SCG')\n",
    "plt.legend();"
   ]
  },
  {
   "cell_type": "markdown",
   "metadata": {},
   "source": [
    "Now, what is the gradient of our mean squared error with respect to all weights if our model has two units in the first layer?  How does the gradient of mean squared error with respect to all weights change with more than one variable input possible in each unit?"
   ]
  },
  {
   "cell_type": "markdown",
   "metadata": {},
   "source": [
    "![Three Units](http://www.cs.colostate.edu/~anderson/cs545/notebooks/net-2unitsa.png)"
   ]
  },
  {
   "cell_type": "markdown",
   "metadata": {},
   "source": [
    "Helpful resources:\n",
    "\n",
    "* [Backpropagation tutorial by Google](https://google-developers.appspot.com/machine-learning/crash-course/backprop-scroll/)\n",
    "* [What is backpropagation really doing? | Deep learning, chapter 3](https://www.youtube.com/watch?v=Ilg3gGewQ5U)"
   ]
  },
  {
   "cell_type": "code",
   "execution_count": null,
   "metadata": {},
   "outputs": [],
   "source": []
  }
 ],
 "metadata": {
  "anaconda-cloud": {},
  "kernelspec": {
   "display_name": "Python 3",
   "language": "python",
   "name": "python3"
  },
  "language_info": {
   "codemirror_mode": {
    "name": "ipython",
    "version": 3
   },
   "file_extension": ".py",
   "mimetype": "text/x-python",
   "name": "python",
   "nbconvert_exporter": "python",
   "pygments_lexer": "ipython3",
   "version": "3.6.5"
  }
 },
 "nbformat": 4,
 "nbformat_minor": 1
}
