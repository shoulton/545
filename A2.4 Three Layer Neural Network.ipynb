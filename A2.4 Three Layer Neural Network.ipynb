{
 "cells": [
  {
   "cell_type": "markdown",
   "metadata": {},
   "source": [
    "$\\newcommand{\\xv}{\\mathbf{x}}\n",
    "\\newcommand{\\Xv}{\\mathbf{X}}\n",
    "\\newcommand{\\Xvh}{\\hat{\\mathbf{X}}}\n",
    "\\newcommand{\\yv}{\\mathbf{y}}\n",
    "\\newcommand{\\Yv}{\\mathbf{Y}}\n",
    "\\newcommand{\\av}{\\mathbf{a}}\n",
    "\\newcommand{\\Wv}{\\mathbf{W}}\n",
    "\\newcommand{\\wv}{\\mathbf{w}}\n",
    "\\newcommand{\\gv}{\\mathbf{g}}\n",
    "\\newcommand{\\Hv}{\\mathbf{H}}\n",
    "\\newcommand{\\dv}{\\mathbf{d}}\n",
    "\\newcommand{\\Vv}{\\mathbf{V}}\n",
    "\\newcommand{\\vv}{\\mathbf{v}}\n",
    "\\newcommand{\\Uv}{\\mathbf{U}}\n",
    "\\newcommand{\\tv}{\\mathbf{t}}\n",
    "\\newcommand{\\Tv}{\\mathbf{T}}\n",
    "\\newcommand{\\zv}{\\mathbf{z}}\n",
    "\\newcommand{\\Zv}{\\mathbf{Z}}\n",
    "\\newcommand{\\Zvh}{\\hat{\\mathbf{Z}}}\n",
    "\\newcommand{\\Ev}{\\mathbf{E}}\n",
    "\\newcommand{\\onev}{\\mathbf{1}}\n",
    "\\newcommand{\\muv}{\\boldsymbol{\\mu}}\n",
    "\\newcommand{\\sigmav}{\\boldsymbol{\\sigma}}\n",
    "\\newcommand{\\phiv}{\\boldsymbol{\\phi}}\n",
    "\\newcommand{\\Phiv}{\\boldsymbol{\\Phi}}\n",
    "\\newcommand{\\Sigmav}{\\boldsymbol{\\Sigma}}\n",
    "\\newcommand{\\Lambdav}{\\boldsymbol{\\Lambda}}\n",
    "\\newcommand{\\half}{\\frac{1}{2}}\n",
    "\\newcommand{\\argmax}[1]{\\underset{#1}{\\operatorname{argmax}}}\n",
    "\\newcommand{\\argmin}[1]{\\underset{#1}{\\operatorname{argmin}}}\n",
    "\\newcommand{\\dimensionbar}[1]{\\underset{#1}{\\operatorname{|}}}\n",
    "$\n"
   ]
  },
  {
   "cell_type": "markdown",
   "metadata": {},
   "source": [
    "# A2.4 Three-Layer Neural Network\n",
    "\n",
    "* A2.4: Now the output from Code Cell [11] is correct. I hadn't rerun it for A2.3.   \n",
    "* A2.3: One more fix to Code Cell [11], in how results are appended.\n",
    "* A2.2: The line `results.append([n_iterations, nh1, nh2, 'scg', result_scg['ftrace'][-1]])` has been corrected.  It had used `'sgd'` before.\n",
    "* A2.1: Replaced the diagram with one having more details. Modified the math equations for clarity. Added another example run showing the expected generality of your functions. A2grader.zip now available.\n",
    "* A2.0: the original assignment description"
   ]
  },
  {
   "cell_type": "markdown",
   "metadata": {},
   "source": [
    "For this assignment, we modify the two-layer neural network matrix equations and code from lecture notes to become a three-layer neural network, one with two hidden layers.  In the following diagram, you will be adding another layer on the left between in the inputs, $x$, and the show hiddden layer.\n",
    "\n",
    "You must complete three steps.\n",
    "1. Complete the matrix equations using latex notation in the markdown cell,\n",
    "2. Implement the required functions in python.\n",
    "3. Perform the described experiments."
   ]
  },
  {
   "cell_type": "markdown",
   "metadata": {},
   "source": [
    "## Network Diagram\n",
    "\n",
    "![Two Layers](http://www.cs.colostate.edu/~anderson/cs545/notebooks/net-A2.png)"
   ]
  },
  {
   "cell_type": "markdown",
   "metadata": {},
   "source": [
    "## Matrix Equations\n",
    "\n",
    "Here are the matrix equations for a network with one hidden layer."
   ]
  },
  {
   "cell_type": "markdown",
   "metadata": {},
   "source": [
    "$$ \n",
    "\\begin{align*}\n",
    "N &= \\text{ number of samples } \\\\\n",
    "I &= \\text{ the number of attributes in each sample }\\\\\n",
    "K &= \\text{ number of units in output layer } \\\\\n",
    "H &= \\text{ number of units in hidden layer }\\\\\n",
    "~\\\\\n",
    "\\Zv &= \\tanh(\\Xvh\\, \\Vv) \\\\\n",
    "\\Yv &= \\Zvh\\, \\Wv\\\\\n",
    "\\Ev &= \\frac{1}{NK} \\sum_{n=1}^N \\sum_{k=1}^K (\\Tv_{n,k} - \\Yv_{n,k})^2 \\\\\n",
    "~\\\\\n",
    "\\nabla_\\Yv E_{n,k} &= \\frac{-2}{NK} (\\Tv_{n,k} - \\Yv_{n,k})\\\\\n",
    "\\delta_\\Yv &= \\frac{-2}{NK} (\\Tv - \\Yv)\\\\\n",
    "\\nabla_\\Wv E &=  \\underbrace{\\underbrace{\\Zvh^T}_{H+1\\times N} \\underbrace{\\delta_\\Yv}_{N\\times K}}_{H+1\\times K}\\\\\n",
    "~\\\\\n",
    "\\nabla_\\Vv E &= \\underbrace{\\underbrace{\\Xvh^T}_{I+1\\times N} \\; \\underbrace{\\delta_\\Zv}_{N\\times H}}_{I+1\\times H} \\;\\;\\;\\;\\text{ where } \\delta_\\Zv = (\\delta_\\Yv \\; \\Wv_{1:}^T)\\; \\cdot\\; (1-\\Zv^2) \\;\\;\\;\\; \\text{ if } f(\\Xvh \\Vv) = \\tanh(\\Xvh \\Vv)\\\\\n",
    "\\end{align*}\n",
    "$$"
   ]
  },
  {
   "cell_type": "markdown",
   "metadata": {},
   "source": [
    "Now we replace $H$ with $H_1$ and $H_2$, and $\\Zv$ with $\\Zv_1$ and $\\Zv_2$.  We also add another first layer of weights, $\\Uv$. Now some of the above equations are modified below, and we have to add the equation for $\\nabla_\\Uv E$."
   ]
  },
  {
   "cell_type": "markdown",
   "metadata": {},
   "source": [
    "$$ \n",
    "\\begin{align*}\n",
    "N &= \\text{ number of samples } \\\\\n",
    "I &= \\text{ the number of attributes in each sample }\\\\\n",
    "K &= \\text{ number of units in output layer } \\\\\n",
    "H_1 &= \\text{ number of units in first hidden layer }\\\\\n",
    "H_2 &= \\text{ number of units in second hidden layer }\\\\\n",
    "~\\\\\n",
    "\\Zv_1 &= \\tanh(\\Xvh\\, \\Uv) \\\\\n",
    "\\Zv_2 &= \\tanh(\\Zvh_1\\, \\Vv) \\\\\n",
    "\\Yv &= \\Zvh_2\\, \\Wv\\\\\n",
    "\\end{align*}\n",
    "$$\n",
    "\n",
    "Now you complete this set of equations for a three-layer network (and delete this line)\n"
   ]
  },
  {
   "cell_type": "markdown",
   "metadata": {},
   "source": [
    "## Code\n",
    "\n",
    "Modify the functions `network` `error_gradient` and `mse` to do the compuations for a three-layer neural network.  They must have the following arguments:\n",
    "* `Y = network(w, n_inputs, n_hiddens_1, n_hiddens_2, n_outputs, X, all_outputs=False)`\n",
    "or\n",
    "* `Y, Z1, Z2 = network(w, n_inputs, n_hiddens_1, n_hiddens_2, n_outputs, X, all_outputs=True)`\n",
    "* `gradient = error_gradient(w, n_inputs, n_hiddens_1, n_hiddens_2, n_outputs, X, T)`\n",
    "* `mean_squared_error = mse(w, n_inputs, n_hiddens_1, n_hiddens_2, n_outputs, X, T)`"
   ]
  },
  {
   "cell_type": "code",
   "execution_count": 1,
   "metadata": {},
   "outputs": [],
   "source": [
    "# def network ...\n",
    "\n",
    "# def error_gradient ...\n",
    "\n",
    "# def mse ...."
   ]
  },
  {
   "cell_type": "markdown",
   "metadata": {},
   "source": [
    "## Test on Air Quality Data\n",
    "Use your code to, as before, predict CO from the Hour of the day.\n",
    "\n",
    "Set up the data matrices `X` and `T` as follows."
   ]
  },
  {
   "cell_type": "code",
   "execution_count": 2,
   "metadata": {},
   "outputs": [],
   "source": [
    "import numpy as np\n",
    "import matplotlib.pyplot as plt\n",
    "\n",
    "import pandas\n",
    "import optimizers as opt  # from Lecture Notes"
   ]
  },
  {
   "cell_type": "code",
   "execution_count": 3,
   "metadata": {},
   "outputs": [
    {
     "name": "stdout",
     "output_type": "stream",
     "text": [
      "data.shape = (443, 2)\n"
     ]
    },
    {
     "data": {
      "text/plain": [
       "array([[18. ,  2.6],\n",
       "       [19. ,  2. ],\n",
       "       [20. ,  2.2],\n",
       "       [21. ,  2.2],\n",
       "       [22. ,  1.6],\n",
       "       [23. ,  1.2],\n",
       "       [ 0. ,  1.2],\n",
       "       [ 1. ,  1. ],\n",
       "       [ 2. ,  0.9],\n",
       "       [ 3. ,  0.6]])"
      ]
     },
     "execution_count": 3,
     "metadata": {},
     "output_type": "execute_result"
    }
   ],
   "source": [
    "data = pandas.read_csv('AirQualityUCI.csv', delimiter=';', decimal=',', usecols=range(15), na_values=-200)\n",
    "data = data[['Time', 'CO(GT)']]\n",
    "data = data [:23 * 20]  # first 20 days of data\n",
    "data = data.dropna(axis=0)\n",
    "print('data.shape =', data.shape)\n",
    "\n",
    "hour = [int(t[:2]) for t in data['Time']]\n",
    "X = np.array(hour).reshape(-1, 1)\n",
    "CO = data['CO(GT)']\n",
    "T = np.array(CO).reshape(-1, 1)\n",
    "np.hstack((X, T))[:10]  # show the first 10 samples of hour, CO"
   ]
  },
  {
   "cell_type": "markdown",
   "metadata": {},
   "source": [
    "Define the network parameters.  Use the shapes of `X` and `T` to assign the number of inputs and outputs.  Define each of the two hidden layers to have 5 units."
   ]
  },
  {
   "cell_type": "code",
   "execution_count": 4,
   "metadata": {},
   "outputs": [],
   "source": [
    "n_inputs = X.shape[1]\n",
    "n_hiddens_1 = 5\n",
    "n_hiddens_2 = 5\n",
    "n_outputs = T.shape[1]"
   ]
  },
  {
   "cell_type": "markdown",
   "metadata": {},
   "source": [
    "Now we must define the intial weight vector.  The vector contains a value for each weight in all three layers."
   ]
  },
  {
   "cell_type": "code",
   "execution_count": 5,
   "metadata": {},
   "outputs": [],
   "source": [
    "n_U = (n_inputs + 1) * n_hiddens_1\n",
    "n_V = (n_hiddens_1 + 1) * n_hiddens_2\n",
    "n_W = (n_hiddens_2 + 1) * n_outputs\n",
    "\n",
    "initial_w = np.random.uniform(-0.1, 0.1, n_U + n_V + n_W)  # range of weights is -0.1 to 0.1"
   ]
  },
  {
   "cell_type": "markdown",
   "metadata": {},
   "source": [
    "Before training our network, standardize the input values, to change the hour to have zero mean and unit variance across the set of samples.  Change `True` to `False` to not perform this step, allowing you to compare results with and without standardization.  It is not required to show the results here.  When you check in your notebook, leave `standardize` set to `True`."
   ]
  },
  {
   "cell_type": "code",
   "execution_count": 6,
   "metadata": {},
   "outputs": [
    {
     "name": "stdout",
     "output_type": "stream",
     "text": [
      "X mean is 0.000 and its standard deviation is 1.000\n"
     ]
    }
   ],
   "source": [
    "standardize = True\n",
    "\n",
    "if standardize:\n",
    "    X_mean = X.mean(axis=0)\n",
    "    X_std = X.std(axis=0)\n",
    "    \n",
    "    X = (X - X_mean) / X_std\n",
    "    \n",
    "print(f'X mean is {X.mean(axis=0)[0]:.3f} and its standard deviation is {X.std(axis=0)[0]:.3f}')"
   ]
  },
  {
   "cell_type": "markdown",
   "metadata": {},
   "source": [
    "Now we can train our network using each of our three optimization algorithms."
   ]
  },
  {
   "cell_type": "code",
   "execution_count": 7,
   "metadata": {},
   "outputs": [
    {
     "ename": "NameError",
     "evalue": "name 'mse' is not defined",
     "output_type": "error",
     "traceback": [
      "\u001b[1;31m---------------------------------------------------------------------------\u001b[0m",
      "\u001b[1;31mNameError\u001b[0m                                 Traceback (most recent call last)",
      "\u001b[1;32m<ipython-input-7-c9a8a9d81686>\u001b[0m in \u001b[0;36m<module>\u001b[1;34m()\u001b[0m\n\u001b[0;32m      2\u001b[0m \u001b[1;33m\u001b[0m\u001b[0m\n\u001b[0;32m      3\u001b[0m result_sgd = opt.sgd(initial_w,\n\u001b[1;32m----> 4\u001b[1;33m                      \u001b[0mmse\u001b[0m\u001b[1;33m,\u001b[0m \u001b[0merror_gradient\u001b[0m\u001b[1;33m,\u001b[0m \u001b[0mfargs\u001b[0m\u001b[1;33m=\u001b[0m\u001b[1;33m[\u001b[0m\u001b[0mn_inputs\u001b[0m\u001b[1;33m,\u001b[0m \u001b[0mn_hiddens_1\u001b[0m\u001b[1;33m,\u001b[0m \u001b[0mn_hiddens_2\u001b[0m\u001b[1;33m,\u001b[0m \u001b[0mn_outputs\u001b[0m\u001b[1;33m,\u001b[0m \u001b[0mX\u001b[0m\u001b[1;33m,\u001b[0m \u001b[0mT\u001b[0m\u001b[1;33m]\u001b[0m\u001b[1;33m,\u001b[0m\u001b[1;33m\u001b[0m\u001b[0m\n\u001b[0m\u001b[0;32m      5\u001b[0m                      \u001b[0mn_iterations\u001b[0m\u001b[1;33m=\u001b[0m\u001b[0mn_iterations\u001b[0m\u001b[1;33m,\u001b[0m \u001b[0mlearning_rate\u001b[0m\u001b[1;33m=\u001b[0m\u001b[1;36m1e-1\u001b[0m\u001b[1;33m,\u001b[0m \u001b[0mmomentum_rate\u001b[0m\u001b[1;33m=\u001b[0m\u001b[1;36m0.2\u001b[0m\u001b[1;33m,\u001b[0m\u001b[1;33m\u001b[0m\u001b[0m\n\u001b[0;32m      6\u001b[0m                      save_wtrace=True)\n",
      "\u001b[1;31mNameError\u001b[0m: name 'mse' is not defined"
     ]
    }
   ],
   "source": [
    "n_iterations = 2000\n",
    "\n",
    "result_sgd = opt.sgd(initial_w,\n",
    "                     mse, error_gradient, fargs=[n_inputs, n_hiddens_1, n_hiddens_2, n_outputs, X, T],\n",
    "                     n_iterations=n_iterations, learning_rate=1e-1, momentum_rate=0.2, \n",
    "                     save_wtrace=True)\n",
    "print(f'SGD final error is {result_sgd[\"ftrace\"][-1]:.3f} and it took {result_sgd[\"time\"]:.2f} seconds')\n",
    "\n",
    "result_adam = opt.adam(initial_w, \n",
    "                       mse, error_gradient, fargs=[n_inputs, n_hiddens_1, n_hiddens_2, n_outputs, X, T],\n",
    "                       n_iterations=n_iterations, learning_rate=1e-2, \n",
    "                       save_wtrace=True)\n",
    "print(f'Adam final error is {result_adam[\"ftrace\"][-1]:.3f} and it took {result_adam[\"time\"]:.2f} seconds')\n",
    "\n",
    "result_scg = opt.scg(initial_w,\n",
    "                     mse, error_gradient, fargs=[n_inputs, n_hiddens_1, n_hiddens_2, n_outputs, X, T],\n",
    "                     n_iterations=n_iterations,\n",
    "                     save_wtrace=True)\n",
    "print(f'SCG final error is {result_scg[\"ftrace\"][-1]:.3f} and it took {result_scg[\"time\"]:.2f} seconds')"
   ]
  },
  {
   "cell_type": "markdown",
   "metadata": {},
   "source": [
    "Examine the error curve and the model fits for each of the optimization algorithms."
   ]
  },
  {
   "cell_type": "code",
   "execution_count": 9,
   "metadata": {},
   "outputs": [
    {
     "data": {
      "image/png": "[encoded data removed]",
      "text/plain": [
       "<Figure size 1440x576 with 2 Axes>"
      ]
     },
     "metadata": {
      "needs_background": "light"
     },
     "output_type": "display_data"
    }
   ],
   "source": [
    "plt.figure(figsize=(20, 8))\n",
    "plt.subplot(1, 2, 1)\n",
    "plt.plot(result_sgd['ftrace'], label='SGD')\n",
    "plt.plot(result_adam['ftrace'], label='Adam')\n",
    "plt.plot(result_scg['ftrace'], label='SCG')\n",
    "plt.legend()\n",
    "plt.xlabel('Iteration')\n",
    "plt.ylabel('MSE')\n",
    "plt.ylim(0, 4)\n",
    "\n",
    "plt.subplot(1, 2, 2)\n",
    "if standardize:\n",
    "    plt.plot(X * X_std + X_mean, T, 'k.')  # unstandardize X\n",
    "else:\n",
    "    plt.plot(X, T, 'k.')\n",
    "xs = np.linspace(0, 23, 100).reshape((-1, 1))\n",
    "xs_standardized = (xs - X_mean) / X_std if standardize else xs\n",
    "plt.plot(xs, network(result_sgd['w'], n_inputs, n_hiddens_1, n_hiddens_2, n_outputs, xs_standardized), label='SGD')\n",
    "plt.plot(xs, network(result_adam['w'], n_inputs, n_hiddens_1, n_hiddens_2, n_outputs, xs_standardized), label='Adam')\n",
    "plt.plot(xs, network(result_scg['w'], n_inputs, n_hiddens_1, n_hiddens_2, n_outputs, xs_standardized), label='SCG')\n",
    "plt.legend()\n",
    "plt.xlabel('Hour')\n",
    "plt.ylabel('CO');"
   ]
  },
  {
   "cell_type": "markdown",
   "metadata": {},
   "source": [
    "Here is some code that tries a number of values for the key parameters of `n_iterations`, `n_hiddens_1`, `n_hiddens_2` and `learning_rate`.\n",
    "\n",
    "**Required:** Modify the lists of values in the four for loops to try other parameter values.  Try to find ranges that work well for all three algorithms."
   ]
  },
  {
   "cell_type": "code",
   "execution_count": 10,
   "metadata": {},
   "outputs": [
    {
     "data": {
      "text/html": [
       "<div>\n",
       "<style scoped>\n",
       "    .dataframe tbody tr th:only-of-type {\n",
       "        vertical-align: middle;\n",
       "    }\n",
       "\n",
       "    .dataframe tbody tr th {\n",
       "        vertical-align: top;\n",
       "    }\n",
       "\n",
       "    .dataframe thead th {\n",
       "        text-align: right;\n",
       "    }\n",
       "</style>\n",
       "<table border=\"1\" class=\"dataframe\">\n",
       "  <thead>\n",
       "    <tr style=\"text-align: right;\">\n",
       "      <th></th>\n",
       "      <th>Iterations</th>\n",
       "      <th>nh1</th>\n",
       "      <th>nh2</th>\n",
       "      <th>lr</th>\n",
       "      <th>algo</th>\n",
       "      <th>mse</th>\n",
       "    </tr>\n",
       "  </thead>\n",
       "  <tbody>\n",
       "    <tr>\n",
       "      <td>0</td>\n",
       "      <td>10</td>\n",
       "      <td>1</td>\n",
       "      <td>1</td>\n",
       "      <td>0.00000</td>\n",
       "      <td>scg</td>\n",
       "      <td>1.868612</td>\n",
       "    </tr>\n",
       "    <tr>\n",
       "      <td>1</td>\n",
       "      <td>10</td>\n",
       "      <td>1</td>\n",
       "      <td>1</td>\n",
       "      <td>0.00100</td>\n",
       "      <td>sgd</td>\n",
       "      <td>6.747985</td>\n",
       "    </tr>\n",
       "    <tr>\n",
       "      <td>2</td>\n",
       "      <td>10</td>\n",
       "      <td>1</td>\n",
       "      <td>1</td>\n",
       "      <td>0.00100</td>\n",
       "      <td>adam</td>\n",
       "      <td>6.870347</td>\n",
       "    </tr>\n",
       "    <tr>\n",
       "      <td>3</td>\n",
       "      <td>10</td>\n",
       "      <td>1</td>\n",
       "      <td>1</td>\n",
       "      <td>0.00001</td>\n",
       "      <td>sgd</td>\n",
       "      <td>6.906553</td>\n",
       "    </tr>\n",
       "    <tr>\n",
       "      <td>4</td>\n",
       "      <td>10</td>\n",
       "      <td>1</td>\n",
       "      <td>1</td>\n",
       "      <td>0.00001</td>\n",
       "      <td>adam</td>\n",
       "      <td>6.907798</td>\n",
       "    </tr>\n",
       "    <tr>\n",
       "      <td>5</td>\n",
       "      <td>10</td>\n",
       "      <td>1</td>\n",
       "      <td>2</td>\n",
       "      <td>0.00000</td>\n",
       "      <td>scg</td>\n",
       "      <td>1.851776</td>\n",
       "    </tr>\n",
       "    <tr>\n",
       "      <td>6</td>\n",
       "      <td>10</td>\n",
       "      <td>1</td>\n",
       "      <td>2</td>\n",
       "      <td>0.00100</td>\n",
       "      <td>sgd</td>\n",
       "      <td>7.029983</td>\n",
       "    </tr>\n",
       "    <tr>\n",
       "      <td>7</td>\n",
       "      <td>10</td>\n",
       "      <td>1</td>\n",
       "      <td>2</td>\n",
       "      <td>0.00100</td>\n",
       "      <td>adam</td>\n",
       "      <td>7.157960</td>\n",
       "    </tr>\n",
       "    <tr>\n",
       "      <td>8</td>\n",
       "      <td>10</td>\n",
       "      <td>1</td>\n",
       "      <td>2</td>\n",
       "      <td>0.00001</td>\n",
       "      <td>sgd</td>\n",
       "      <td>7.198326</td>\n",
       "    </tr>\n",
       "    <tr>\n",
       "      <td>9</td>\n",
       "      <td>10</td>\n",
       "      <td>1</td>\n",
       "      <td>2</td>\n",
       "      <td>0.00001</td>\n",
       "      <td>adam</td>\n",
       "      <td>7.199626</td>\n",
       "    </tr>\n",
       "    <tr>\n",
       "      <td>10</td>\n",
       "      <td>10</td>\n",
       "      <td>2</td>\n",
       "      <td>1</td>\n",
       "      <td>0.00000</td>\n",
       "      <td>scg</td>\n",
       "      <td>1.498131</td>\n",
       "    </tr>\n",
       "    <tr>\n",
       "      <td>11</td>\n",
       "      <td>10</td>\n",
       "      <td>2</td>\n",
       "      <td>1</td>\n",
       "      <td>0.00100</td>\n",
       "      <td>sgd</td>\n",
       "      <td>7.305138</td>\n",
       "    </tr>\n",
       "    <tr>\n",
       "      <td>12</td>\n",
       "      <td>10</td>\n",
       "      <td>2</td>\n",
       "      <td>1</td>\n",
       "      <td>0.00100</td>\n",
       "      <td>adam</td>\n",
       "      <td>7.443269</td>\n",
       "    </tr>\n",
       "    <tr>\n",
       "      <td>13</td>\n",
       "      <td>10</td>\n",
       "      <td>2</td>\n",
       "      <td>1</td>\n",
       "      <td>0.00001</td>\n",
       "      <td>sgd</td>\n",
       "      <td>7.481391</td>\n",
       "    </tr>\n",
       "    <tr>\n",
       "      <td>14</td>\n",
       "      <td>10</td>\n",
       "      <td>2</td>\n",
       "      <td>1</td>\n",
       "      <td>0.00001</td>\n",
       "      <td>adam</td>\n",
       "      <td>7.482801</td>\n",
       "    </tr>\n",
       "    <tr>\n",
       "      <td>15</td>\n",
       "      <td>10</td>\n",
       "      <td>2</td>\n",
       "      <td>2</td>\n",
       "      <td>0.00000</td>\n",
       "      <td>scg</td>\n",
       "      <td>1.535011</td>\n",
       "    </tr>\n",
       "    <tr>\n",
       "      <td>16</td>\n",
       "      <td>10</td>\n",
       "      <td>2</td>\n",
       "      <td>2</td>\n",
       "      <td>0.00100</td>\n",
       "      <td>sgd</td>\n",
       "      <td>7.333261</td>\n",
       "    </tr>\n",
       "    <tr>\n",
       "      <td>17</td>\n",
       "      <td>10</td>\n",
       "      <td>2</td>\n",
       "      <td>2</td>\n",
       "      <td>0.00100</td>\n",
       "      <td>adam</td>\n",
       "      <td>7.472228</td>\n",
       "    </tr>\n",
       "    <tr>\n",
       "      <td>18</td>\n",
       "      <td>10</td>\n",
       "      <td>2</td>\n",
       "      <td>2</td>\n",
       "      <td>0.00001</td>\n",
       "      <td>sgd</td>\n",
       "      <td>7.509693</td>\n",
       "    </tr>\n",
       "    <tr>\n",
       "      <td>19</td>\n",
       "      <td>10</td>\n",
       "      <td>2</td>\n",
       "      <td>2</td>\n",
       "      <td>0.00001</td>\n",
       "      <td>adam</td>\n",
       "      <td>7.511109</td>\n",
       "    </tr>\n",
       "    <tr>\n",
       "      <td>20</td>\n",
       "      <td>100</td>\n",
       "      <td>1</td>\n",
       "      <td>1</td>\n",
       "      <td>0.00000</td>\n",
       "      <td>scg</td>\n",
       "      <td>1.303645</td>\n",
       "    </tr>\n",
       "    <tr>\n",
       "      <td>21</td>\n",
       "      <td>100</td>\n",
       "      <td>1</td>\n",
       "      <td>1</td>\n",
       "      <td>0.00100</td>\n",
       "      <td>sgd</td>\n",
       "      <td>5.711512</td>\n",
       "    </tr>\n",
       "    <tr>\n",
       "      <td>22</td>\n",
       "      <td>100</td>\n",
       "      <td>1</td>\n",
       "      <td>1</td>\n",
       "      <td>0.00100</td>\n",
       "      <td>adam</td>\n",
       "      <td>7.062903</td>\n",
       "    </tr>\n",
       "    <tr>\n",
       "      <td>23</td>\n",
       "      <td>100</td>\n",
       "      <td>1</td>\n",
       "      <td>1</td>\n",
       "      <td>0.00001</td>\n",
       "      <td>sgd</td>\n",
       "      <td>7.531790</td>\n",
       "    </tr>\n",
       "    <tr>\n",
       "      <td>24</td>\n",
       "      <td>100</td>\n",
       "      <td>1</td>\n",
       "      <td>1</td>\n",
       "      <td>0.00001</td>\n",
       "      <td>adam</td>\n",
       "      <td>7.549069</td>\n",
       "    </tr>\n",
       "    <tr>\n",
       "      <td>25</td>\n",
       "      <td>100</td>\n",
       "      <td>1</td>\n",
       "      <td>2</td>\n",
       "      <td>0.00000</td>\n",
       "      <td>scg</td>\n",
       "      <td>1.263218</td>\n",
       "    </tr>\n",
       "    <tr>\n",
       "      <td>26</td>\n",
       "      <td>100</td>\n",
       "      <td>1</td>\n",
       "      <td>2</td>\n",
       "      <td>0.00100</td>\n",
       "      <td>sgd</td>\n",
       "      <td>5.344691</td>\n",
       "    </tr>\n",
       "    <tr>\n",
       "      <td>27</td>\n",
       "      <td>100</td>\n",
       "      <td>1</td>\n",
       "      <td>2</td>\n",
       "      <td>0.00100</td>\n",
       "      <td>adam</td>\n",
       "      <td>6.359977</td>\n",
       "    </tr>\n",
       "    <tr>\n",
       "      <td>28</td>\n",
       "      <td>100</td>\n",
       "      <td>1</td>\n",
       "      <td>2</td>\n",
       "      <td>0.00001</td>\n",
       "      <td>sgd</td>\n",
       "      <td>6.995592</td>\n",
       "    </tr>\n",
       "    <tr>\n",
       "      <td>29</td>\n",
       "      <td>100</td>\n",
       "      <td>1</td>\n",
       "      <td>2</td>\n",
       "      <td>0.00001</td>\n",
       "      <td>adam</td>\n",
       "      <td>7.010842</td>\n",
       "    </tr>\n",
       "    <tr>\n",
       "      <td>30</td>\n",
       "      <td>100</td>\n",
       "      <td>2</td>\n",
       "      <td>1</td>\n",
       "      <td>0.00000</td>\n",
       "      <td>scg</td>\n",
       "      <td>1.303644</td>\n",
       "    </tr>\n",
       "    <tr>\n",
       "      <td>31</td>\n",
       "      <td>100</td>\n",
       "      <td>2</td>\n",
       "      <td>1</td>\n",
       "      <td>0.00100</td>\n",
       "      <td>sgd</td>\n",
       "      <td>5.838410</td>\n",
       "    </tr>\n",
       "    <tr>\n",
       "      <td>32</td>\n",
       "      <td>100</td>\n",
       "      <td>2</td>\n",
       "      <td>1</td>\n",
       "      <td>0.00100</td>\n",
       "      <td>adam</td>\n",
       "      <td>7.197474</td>\n",
       "    </tr>\n",
       "    <tr>\n",
       "      <td>33</td>\n",
       "      <td>100</td>\n",
       "      <td>2</td>\n",
       "      <td>1</td>\n",
       "      <td>0.00001</td>\n",
       "      <td>sgd</td>\n",
       "      <td>7.730500</td>\n",
       "    </tr>\n",
       "    <tr>\n",
       "      <td>34</td>\n",
       "      <td>100</td>\n",
       "      <td>2</td>\n",
       "      <td>1</td>\n",
       "      <td>0.00001</td>\n",
       "      <td>adam</td>\n",
       "      <td>7.748282</td>\n",
       "    </tr>\n",
       "    <tr>\n",
       "      <td>35</td>\n",
       "      <td>100</td>\n",
       "      <td>2</td>\n",
       "      <td>2</td>\n",
       "      <td>0.00000</td>\n",
       "      <td>scg</td>\n",
       "      <td>1.241235</td>\n",
       "    </tr>\n",
       "    <tr>\n",
       "      <td>36</td>\n",
       "      <td>100</td>\n",
       "      <td>2</td>\n",
       "      <td>2</td>\n",
       "      <td>0.00100</td>\n",
       "      <td>sgd</td>\n",
       "      <td>5.813563</td>\n",
       "    </tr>\n",
       "    <tr>\n",
       "      <td>37</td>\n",
       "      <td>100</td>\n",
       "      <td>2</td>\n",
       "      <td>2</td>\n",
       "      <td>0.00100</td>\n",
       "      <td>adam</td>\n",
       "      <td>6.975662</td>\n",
       "    </tr>\n",
       "    <tr>\n",
       "      <td>38</td>\n",
       "      <td>100</td>\n",
       "      <td>2</td>\n",
       "      <td>2</td>\n",
       "      <td>0.00001</td>\n",
       "      <td>sgd</td>\n",
       "      <td>7.695769</td>\n",
       "    </tr>\n",
       "    <tr>\n",
       "      <td>39</td>\n",
       "      <td>100</td>\n",
       "      <td>2</td>\n",
       "      <td>2</td>\n",
       "      <td>0.00001</td>\n",
       "      <td>adam</td>\n",
       "      <td>7.713361</td>\n",
       "    </tr>\n",
       "  </tbody>\n",
       "</table>\n",
       "</div>"
      ],
      "text/plain": [
       "    Iterations  nh1  nh2       lr  algo       mse\n",
       "0           10    1    1  0.00000   scg  1.868612\n",
       "1           10    1    1  0.00100   sgd  6.747985\n",
       "2           10    1    1  0.00100  adam  6.870347\n",
       "3           10    1    1  0.00001   sgd  6.906553\n",
       "4           10    1    1  0.00001  adam  6.907798\n",
       "5           10    1    2  0.00000   scg  1.851776\n",
       "6           10    1    2  0.00100   sgd  7.029983\n",
       "7           10    1    2  0.00100  adam  7.157960\n",
       "8           10    1    2  0.00001   sgd  7.198326\n",
       "9           10    1    2  0.00001  adam  7.199626\n",
       "10          10    2    1  0.00000   scg  1.498131\n",
       "11          10    2    1  0.00100   sgd  7.305138\n",
       "12          10    2    1  0.00100  adam  7.443269\n",
       "13          10    2    1  0.00001   sgd  7.481391\n",
       "14          10    2    1  0.00001  adam  7.482801\n",
       "15          10    2    2  0.00000   scg  1.535011\n",
       "16          10    2    2  0.00100   sgd  7.333261\n",
       "17          10    2    2  0.00100  adam  7.472228\n",
       "18          10    2    2  0.00001   sgd  7.509693\n",
       "19          10    2    2  0.00001  adam  7.511109\n",
       "20         100    1    1  0.00000   scg  1.303645\n",
       "21         100    1    1  0.00100   sgd  5.711512\n",
       "22         100    1    1  0.00100  adam  7.062903\n",
       "23         100    1    1  0.00001   sgd  7.531790\n",
       "24         100    1    1  0.00001  adam  7.549069\n",
       "25         100    1    2  0.00000   scg  1.263218\n",
       "26         100    1    2  0.00100   sgd  5.344691\n",
       "27         100    1    2  0.00100  adam  6.359977\n",
       "28         100    1    2  0.00001   sgd  6.995592\n",
       "29         100    1    2  0.00001  adam  7.010842\n",
       "30         100    2    1  0.00000   scg  1.303644\n",
       "31         100    2    1  0.00100   sgd  5.838410\n",
       "32         100    2    1  0.00100  adam  7.197474\n",
       "33         100    2    1  0.00001   sgd  7.730500\n",
       "34         100    2    1  0.00001  adam  7.748282\n",
       "35         100    2    2  0.00000   scg  1.241235\n",
       "36         100    2    2  0.00100   sgd  5.813563\n",
       "37         100    2    2  0.00100  adam  6.975662\n",
       "38         100    2    2  0.00001   sgd  7.695769\n",
       "39         100    2    2  0.00001  adam  7.713361"
      ]
     },
     "execution_count": 10,
     "metadata": {},
     "output_type": "execute_result"
    }
   ],
   "source": [
    "results = []\n",
    "for n_iterations in [10, 100]:\n",
    "    for nh1 in [1, 2]:\n",
    "        for nh2 in [1, 2]:\n",
    "            \n",
    "            n_U = (n_inputs + 1) * nh1\n",
    "            n_V = (nh1 + 1) * nh2\n",
    "            n_W = (nh2 + 1) * n_outputs\n",
    "            initial_w = np.random.uniform(-0.1, 0.1, n_U + n_V + n_W)\n",
    "\n",
    "            result_scg = opt.scg(initial_w, mse, error_gradient, fargs=[n_inputs, nh1, nh2, n_outputs, X, T],\n",
    "                                 n_iterations=n_iterations)\n",
    "            results.append([n_iterations, nh1, nh2, 0, 'scg', result_scg['ftrace'][-1]])\n",
    "            \n",
    "            for lr in [1e-3, 1e-5]:\n",
    "                \n",
    "                result_sgd = opt.sgd(initial_w, mse, error_gradient, fargs=[n_inputs, nh1, nh2, n_outputs, X, T],\n",
    "                     n_iterations=n_iterations, learning_rate=lr, momentum_rate=0)\n",
    "                result_adam = opt.adam(initial_w, mse, error_gradient, fargs=[n_inputs, nh1, nh2, n_outputs, X, T],\n",
    "                                       n_iterations=n_iterations, learning_rate=lr)\n",
    " \n",
    "                results.append([n_iterations, nh1, nh2, lr, 'sgd', result_sgd['ftrace'][-1]])\n",
    "                results.append([n_iterations, nh1, nh2, lr, 'adam', result_adam['ftrace'][-1]])\n",
    "\n",
    "results = pandas.DataFrame(results, columns=('Iterations', 'nh1', 'nh2', 'lr', 'algo', 'mse'))\n",
    "results"
   ]
  },
  {
   "cell_type": "markdown",
   "metadata": {},
   "source": [
    "**Required:** Show the results for the 20 lowest MSE values, sorted by increasing MSE. Read about the `sort_values` and `head` methods on a `DataFrame`.  You can do this with a single line of python code."
   ]
  },
  {
   "cell_type": "code",
   "execution_count": 11,
   "metadata": {},
   "outputs": [],
   "source": [
    "# ...code here....  Can be just one line of python"
   ]
  },
  {
   "cell_type": "markdown",
   "metadata": {},
   "source": [
    "Since you have cleverly written your code to handle any value of $I$, $H_1$, $H_2$, and $K$, your code should be able to handle the following data that contains three attributes for each of 5 samples and two output values for each sample."
   ]
  },
  {
   "cell_type": "code",
   "execution_count": 11,
   "metadata": {},
   "outputs": [
    {
     "name": "stdout",
     "output_type": "stream",
     "text": [
      "  Input            Target\n",
      "[0 1 2] \t [0. 4.]\n",
      "[3 4 5] \t [ 1.2 25. ]\n",
      "[6 7 8] \t [ 4.2 64. ]\n",
      "[ 9 10 11] \t [  9. 121.]\n",
      "[12 13 14] \t [ 15.6 196. ]\n"
     ]
    }
   ],
   "source": [
    "X = np.arange(15).reshape((5, 3))\n",
    "T = np.hstack((X[:, 0:1] * 0.1 * X[:, 1:2], X[:, 2:]**2)) # making two target values for each sample\n",
    "T = T.reshape((5, 2))\n",
    "print('  Input            Target')\n",
    "for x, t in zip(X, T):\n",
    "    print(x, '\\t', t)"
   ]
  },
  {
   "cell_type": "markdown",
   "metadata": {},
   "source": [
    "Let's use your code to train a neural network with two hidden layers, having 50 units in the first hidden layer and 3 units in the second hidden layer.  This example does not perform the standardization step."
   ]
  },
  {
   "cell_type": "code",
   "execution_count": 12,
   "metadata": {},
   "outputs": [
    {
     "name": "stdout",
     "output_type": "stream",
     "text": [
      "SGD final error is 2433.744 and it took 0.19 seconds\n",
      "Adam final error is 3359.761 and it took 0.18 seconds\n",
      "SCG final error is 52.765 and it took 0.29 seconds\n"
     ]
    }
   ],
   "source": [
    "n_hiddens_1 = 50\n",
    "n_hiddens_2 = 3\n",
    "n_iterations = 1000\n",
    "\n",
    "\n",
    "n_inputs = X.shape[1]\n",
    "n_outputs = T.shape[1]\n",
    "\n",
    "n_U = (n_inputs + 1) * n_hiddens_1\n",
    "n_V = (n_hiddens_1 + 1) * n_hiddens_2\n",
    "n_W = (n_hiddens_2 + 1) * n_outputs\n",
    "\n",
    "initial_w = np.random.uniform(-0.1, 0.1, n_U + n_V + n_W)  # range of weights is -0.1 to 0.1\n",
    "\n",
    "result_sgd = opt.sgd(initial_w,\n",
    "                     mse, error_gradient, fargs=[n_inputs, n_hiddens_1, n_hiddens_2, n_outputs, X, T],\n",
    "                     n_iterations=n_iterations, learning_rate=1e-1, momentum_rate=0.2, \n",
    "                     save_wtrace=True)\n",
    "print(f'SGD final error is {result_sgd[\"ftrace\"][-1]:.3f} and it took {result_sgd[\"time\"]:.2f} seconds')\n",
    "\n",
    "result_adam = opt.adam(initial_w, \n",
    "                       mse, error_gradient, fargs=[n_inputs, n_hiddens_1, n_hiddens_2, n_outputs, X, T],\n",
    "                       n_iterations=n_iterations, learning_rate=1e-2, \n",
    "                       save_wtrace=True)\n",
    "print(f'Adam final error is {result_adam[\"ftrace\"][-1]:.3f} and it took {result_adam[\"time\"]:.2f} seconds')\n",
    "\n",
    "result_scg = opt.scg(initial_w,\n",
    "                     mse, error_gradient, fargs=[n_inputs, n_hiddens_1, n_hiddens_2, n_outputs, X, T],\n",
    "                     n_iterations=n_iterations,\n",
    "                     save_wtrace=True)\n",
    "print(f'SCG final error is {result_scg[\"ftrace\"][-1]:.3f} and it took {result_scg[\"time\"]:.2f} seconds')"
   ]
  },
  {
   "cell_type": "code",
   "execution_count": 13,
   "metadata": {},
   "outputs": [
    {
     "data": {
      "text/plain": [
       "(5, 2)"
      ]
     },
     "execution_count": 13,
     "metadata": {},
     "output_type": "execute_result"
    }
   ],
   "source": [
    "w = result_scg['w']\n",
    "\n",
    "Y = network(w, n_inputs, n_hiddens_1, n_hiddens_2, n_outputs, X)\n",
    "Y.shape"
   ]
  },
  {
   "cell_type": "code",
   "execution_count": 14,
   "metadata": {},
   "outputs": [
    {
     "data": {
      "image/png": "[encoded data removed]",
      "text/plain": [
       "<Figure size 864x360 with 3 Axes>"
      ]
     },
     "metadata": {
      "needs_background": "light"
     },
     "output_type": "display_data"
    }
   ],
   "source": [
    "def plot_diagonal(T, Y):\n",
    "    a = min(T.min(), Y.min())\n",
    "    b = max(T.max(), Y.max())\n",
    "    plt.plot([a, b], [a, b], '-', lw=3, alpha=0.5)\n",
    "\n",
    "plt.figure(figsize=(12, 5))\n",
    "\n",
    "plt.subplot(1, 3, 1)\n",
    "plt.plot(result_scg['ftrace'])\n",
    "plt.xlabel('Iteration')\n",
    "plt.ylabel('MSE')\n",
    "plt.title('SCG')\n",
    "\n",
    "plt.subplot(1, 3, 2)\n",
    "plt.plot(T[:, 0], Y[:, 0], '.')\n",
    "plot_diagonal(T[:, 0], Y[:, 0])\n",
    "plt.xlabel('Target')\n",
    "plt.ylabel('Prediction')\n",
    "plt.title('$Y_1$')\n",
    "\n",
    "plt.subplot(1, 3, 3)\n",
    "plt.plot(T[:, 1], Y[:, 1], '.')\n",
    "plot_diagonal(T[:, 1], Y[: 1])\n",
    "plt.xlabel('Target')\n",
    "plt.ylabel('Prediction')\n",
    "plt.title('$Y_2$');"
   ]
  },
  {
   "cell_type": "markdown",
   "metadata": {},
   "source": [
    "## Grading\n",
    "\n",
    "Your notebook will be run and graded automatically. Test this grading process by first downloading [A2grader.zip](http://www.cs.colostate.edu/~anderson/cs545/notebooks/A2grader.zip) and extract `A2grader.py` from it. Run the code in the following cell to demonstrate an example grading session. You should see a perfect execution score of 80/80 if your functions are defined correctly. The remaining 20 points will be based on other testing and the results you obtain and your discussions. \n",
    "\n",
    "A different, but similar, grading script will be used to grade your checked-in notebook. It will include additional tests. You should design and perform additional tests on all of your functions to be sure they run correctly before checking in your notebook.  \n",
    "\n",
    "For the grading script to run correctly, you must first name this notebook as 'Lastname-A2.ipynb' with 'Lastname' being your last name, and then save this notebook."
   ]
  },
  {
   "cell_type": "code",
   "execution_count": 44,
   "metadata": {},
   "outputs": [
    {
     "name": "stdout",
     "output_type": "stream",
     "text": [
      "\n",
      "======================= Code Execution =======================\n",
      "\n",
      "\n",
      "Testing\n",
      "X = np.arange(3 * 4).reshape((3, 4)) * 0.1\n",
      "T = np.hstack(( np.sin(X[:, 0:1]) + X[:, 1:2],\n",
      "                X[:, 2:3] * -0.5,\n",
      "                X[:, 3:4] ** 2))\n",
      "n_inputs = X.shape[1]\n",
      "n_outputs = T.shape[1]\n",
      "n_hiddens_1 = 6\n",
      "n_hiddens_2 = 2\n",
      "n_w = (n_inputs + 1) * n_hiddens_1 + (n_hiddens_1 + 1) * n_hiddens_2 + (n_hiddens_2 + 1) * n_outputs\n",
      "w = (np.arange(n_w) - n_w/2) * 0.01\n",
      "Y = network(w, n_inputs, n_hiddens_1, n_hiddens_2, n_outputs, X)\n",
      "\n",
      "\n",
      "--- 20/20 points. Returned correct values.\n",
      "\n",
      "Testing\n",
      "Y, Z1, Z2 = network(w, n_inputs, n_hiddens_1, n_hiddens_2, n_outputs, X, all_outputs=True)\n",
      "\n",
      "\n",
      "--- 20/20 points. Returned correct values.\n",
      "\n",
      "Testing\n",
      "grad = error_gradient(w, n_inputs, n_hiddens_1, n_hiddens_2, n_outputs, X, T)\n",
      "\n",
      "\n",
      "--- 20/20 points. Returned correct values.\n",
      "\n",
      "Testing\n",
      "m = mse(w, n_inputs, n_hiddens_1, n_hiddens_2, n_outputs, X, T)\n",
      "\n",
      "\n",
      "--- 20/20 points. Returned correct values.\n",
      "\n",
      "A2 Execution Grade is 80 / 80\n",
      "\n",
      "Your final assignment grade will be based on other tests.  Run additional tests\n",
      "of your own design to check your functions before checking in this notebook.\n",
      "\n",
      "A2 FINAL GRADE is ___ / 100\n"
     ]
    }
   ],
   "source": [
    "%run -i A2grader.py"
   ]
  },
  {
   "cell_type": "markdown",
   "metadata": {},
   "source": [
    "## Check-In\n",
    "\n",
    "Do not include this section in your notebook.\n",
    "\n",
    "Name your notebook ```Lastname-A2.ipynb```.  Submit the file using the ```Assignment 2``` link on [Canvas](https://colostate.instructure.com/courses/86986)."
   ]
  },
  {
   "cell_type": "markdown",
   "metadata": {},
   "source": [
    "## Extra Credit\n",
    "\n",
    "Train a neural network with two hidden layers with five units in each layer to predict CO from the Hour of the day.  After it is trained plot the outputs of the five units in the first hidden layer versus 100 floating point values of hour from 0 to 23 in one subplot of one figure.  Then, in another subplot plot the outputs of the five units in the second hidden layer.  In a third subplot, plot the predicted CO from the output of the neural network.  Arrange the subplots vertically.  Describe what you see in the plots."
   ]
  }
 ],
 "metadata": {
  "kernelspec": {
   "display_name": "Python 3",
   "language": "python",
   "name": "python3"
  },
  "language_info": {
   "codemirror_mode": {
    "name": "ipython",
    "version": 3
   },
   "file_extension": ".py",
   "mimetype": "text/x-python",
   "name": "python",
   "nbconvert_exporter": "python",
   "pygments_lexer": "ipython3",
   "version": "3.6.5"
  }
 },
 "nbformat": 4,
 "nbformat_minor": 2
}
